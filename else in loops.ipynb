{
 "cells": [
  {
   "cell_type": "code",
   "execution_count": 32,
   "id": "6b8f6bf2",
   "metadata": {},
   "outputs": [
    {
     "name": "stdout",
     "output_type": "stream",
     "text": [
      "100\n",
      "50 25 76 38 19 58 29 88 44 22 11 34 17 52 26 13 40 20 10 5 16 8 4 2 1 "
     ]
    }
   ],
   "source": [
    "# Collatz Conjecture\n",
    "# Collatz Sequence\n",
    "n=int(input())\n",
    "while(n!=1):\n",
    "    if n%2==0:\n",
    "        n=n//2\n",
    "    elif n%2!=0:\n",
    "        n=3*n+1\n",
    "    print(n,end=' ')"
   ]
  },
  {
   "cell_type": "code",
   "execution_count": 47,
   "id": "010c1506",
   "metadata": {},
   "outputs": [
    {
     "name": "stdout",
     "output_type": "stream",
     "text": [
      "100\n",
      "10\n"
     ]
    }
   ],
   "source": [
    "# Find square root of a number\n",
    "n=int(input())\n",
    "print(int(n**0.5))\n"
   ]
  },
  {
   "cell_type": "code",
   "execution_count": 46,
   "id": "a3988af7",
   "metadata": {},
   "outputs": [
    {
     "name": "stdout",
     "output_type": "stream",
     "text": [
      "59\n",
      "7\n"
     ]
    }
   ],
   "source": [
    "# Find square root of a number\n",
    "n=int(input())\n",
    "import math\n",
    "print(int(math.sqrt(n)))"
   ]
  },
  {
   "cell_type": "code",
   "execution_count": 16,
   "id": "0c63cdbd",
   "metadata": {},
   "outputs": [
    {
     "name": "stdout",
     "output_type": "stream",
     "text": [
      "56\n",
      "2 3 4 5 6 7 "
     ]
    }
   ],
   "source": [
    "# Range of a number from 2 to square root of given number\n",
    "n=int(input())\n",
    "s=(int(n**0.5))\n",
    "i=2\n",
    "for i in range(i,s+1):\n",
    "    \n",
    "    print(i,end=' ')"
   ]
  },
  {
   "cell_type": "code",
   "execution_count": 20,
   "id": "eed8ecfa",
   "metadata": {},
   "outputs": [
    {
     "name": "stdout",
     "output_type": "stream",
     "text": [
      "57\n",
      "Composite\n"
     ]
    }
   ],
   "source": [
    "\n",
    "# Find prime or composite\n",
    "n=int(input())\n",
    "s=(int(n**0.5))\n",
    "i=2\n",
    "c=0\n",
    "for i in range(i,s+1):\n",
    "    if n % i == 0:\n",
    "        c=1\n",
    "        break\n",
    "if c==0:\n",
    "    print(\"Prime\")\n",
    "else:\n",
    "    print(\"Composite\")"
   ]
  },
  {
   "cell_type": "code",
   "execution_count": 21,
   "id": "0761ee82",
   "metadata": {},
   "outputs": [
    {
     "name": "stdout",
     "output_type": "stream",
     "text": [
      "89\n",
      "Prime\n"
     ]
    }
   ],
   "source": [
    "# Find prime or composite\n",
    "n=int(input())\n",
    "s=(int(n**0.5))\n",
    "i=2\n",
    "flag=True\n",
    "for i in range(i,s+1):\n",
    "    if n % i == 0:\n",
    "        flag=False\n",
    "        break\n",
    "if flag==True:\n",
    "    print(\"Prime\")\n",
    "else:\n",
    "    print(\"Composite\")"
   ]
  },
  {
   "cell_type": "code",
   "execution_count": 23,
   "id": "cc5c36d9",
   "metadata": {},
   "outputs": [
    {
     "name": "stdout",
     "output_type": "stream",
     "text": [
      "9\n",
      "Composite\n"
     ]
    }
   ],
   "source": [
    "# Find prime or composite using for-else loop\n",
    "n=int(input())\n",
    "s=(int(n**0.5))\n",
    "i=2\n",
    "flag=True\n",
    "for i in range(2,s+1):\n",
    "    if n % i == 0:\n",
    "        print(\"Composite\")\n",
    "        break\n",
    "else:\n",
    "    print(\"Prime\")\n",
    "    "
   ]
  },
  {
   "cell_type": "code",
   "execution_count": 31,
   "id": "f3597875",
   "metadata": {},
   "outputs": [
    {
     "name": "stdout",
     "output_type": "stream",
     "text": [
      "10 20\n",
      "11\n",
      "13\n",
      "15\n",
      "17\n",
      "19\n"
     ]
    }
   ],
   "source": [
    "# All prime in a given range\n",
    "a,b=map(int,input().split())\n",
    "for a in range(a,b+1):\n",
    "    s=(int(a**0.5))\n",
    "    i=2\n",
    "    flag=True\n",
    "    for i in range(2,s):\n",
    "        if a % i == 0:\n",
    "            break\n",
    "    else:\n",
    "        print(a)\n",
    "    "
   ]
  },
  {
   "cell_type": "code",
   "execution_count": 38,
   "id": "be59dec7",
   "metadata": {},
   "outputs": [
    {
     "name": "stdout",
     "output_type": "stream",
     "text": [
      "454\n",
      "Palindrome\n"
     ]
    }
   ],
   "source": [
    "# Find palindrome or not\n",
    "n=int(input())\n",
    "rev=0\n",
    "temp=n\n",
    "while n!=0:\n",
    "    r=n%10\n",
    "    rev=rev*10+r\n",
    "    n=n//10\n",
    "if(temp==rev):\n",
    "    print(\"Palindrome\")\n",
    "else:\n",
    "    print(\"Not Palindrome\")\n",
    "    "
   ]
  },
  {
   "cell_type": "code",
   "execution_count": 45,
   "id": "4884d936",
   "metadata": {},
   "outputs": [
    {
     "name": "stdout",
     "output_type": "stream",
     "text": [
      "100 130\n",
      "101\n",
      "111\n",
      "121\n"
     ]
    }
   ],
   "source": [
    "# Find palindrome in given range\n",
    "a,b=map(int,input().split())\n",
    "for a in range(a,b+1):\n",
    "    rev=0\n",
    "    temp=a\n",
    "    while a!=0:\n",
    "        r=a%10\n",
    "        rev=rev*10+r\n",
    "        a=a//10\n",
    "    if(temp==rev):\n",
    "        print(temp)"
   ]
  },
  {
   "cell_type": "code",
   "execution_count": null,
   "id": "65bd5ee8",
   "metadata": {},
   "outputs": [],
   "source": []
  }
 ],
 "metadata": {
  "kernelspec": {
   "display_name": "Python 3 (ipykernel)",
   "language": "python",
   "name": "python3"
  },
  "language_info": {
   "codemirror_mode": {
    "name": "ipython",
    "version": 3
   },
   "file_extension": ".py",
   "mimetype": "text/x-python",
   "name": "python",
   "nbconvert_exporter": "python",
   "pygments_lexer": "ipython3",
   "version": "3.9.13"
  }
 },
 "nbformat": 4,
 "nbformat_minor": 5
}
