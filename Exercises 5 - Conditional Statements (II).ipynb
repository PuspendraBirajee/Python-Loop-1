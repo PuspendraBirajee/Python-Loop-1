{
 "cells": [
  {
   "cell_type": "markdown",
   "id": "a6ae83f1",
   "metadata": {},
   "source": [
    "# Programs on Conditional Statements (II)"
   ]
  },
  {
   "cell_type": "markdown",
   "id": "d3bfbdde",
   "metadata": {},
   "source": [
    "## Exercise 1\n",
    "\n",
    "Kohli has infinite coins in denominations of rupees 5 and rupees 10.\n",
    "\n",
    "Find the minimum number of coins Kohli needs, to pay exactly X rupees. If it is impossible to pay X rupees in denominations of rupees 5 and 10 only, print -1.\n",
    "\n",
    "**Sample I/O**  \n",
    "\n",
    "***Input1:***  \n",
    "50  \n",
    "***Output1:***  \n",
    "5\n",
    "\n",
    "***Input2:***  \n",
    "15  \n",
    "***Output2:***  \n",
    "2  \n",
    "\n",
    "***Input3:***  \n",
    "8<br>\n",
    "***Output3:***  \n",
    "-1  \n",
    "\n",
    "***Input4:***  \n",
    "95  \n",
    "***Output4:***  \n",
    "10  "
   ]
  },
  {
   "cell_type": "code",
   "execution_count": 11,
   "id": "43727ac3",
   "metadata": {},
   "outputs": [
    {
     "name": "stdout",
     "output_type": "stream",
     "text": [
      "95\n",
      "10\n"
     ]
    }
   ],
   "source": [
    "# Write your code here\n",
    "x=int(input())\n",
    "a=x//10\n",
    "b=(x-(a*10))//5\n",
    "if (a*10)==x:\n",
    "    print(a)\n",
    "elif (b*5)==x:\n",
    "    print(b)\n",
    "elif (a*10+b*5)==x:\n",
    "    print(a+b)\n",
    "else:\n",
    "    print(\"-1\")"
   ]
  },
  {
   "cell_type": "markdown",
   "id": "addb9f9a",
   "metadata": {},
   "source": [
    "## Exercise 2\n",
    "\n",
    "King is playing a variant of Blackjack, where 3 numbers are drawn and each number lies between 1 and 10 (with both 1 and 10 inclusive). King wins the game when the sum of these 3 numbers is exactly 21.\n",
    "\n",
    "Given the first two numbers A and B, that have been drawn by King, what should be 3-rd number that should be drawn by the King in order to win the game?\n",
    "\n",
    "Note that it is possible that King cannot win the game, no matter what is the 3-rd number. In such cases, report -1 as the answer.\n",
    "\n",
    "**Sample I/O**  \n",
    "\n",
    "***Input1:***  \n",
    "1 10  \n",
    "***Output1:***  \n",
    "10  \n",
    "\n",
    "***Input2:***  \n",
    "1 5  \n",
    "***Output2:***  \n",
    "-1\n",
    "\n",
    "***Input3:***  \n",
    "3 10  \n",
    "***Output3:***  \n",
    "8  \n",
    "\n",
    "***Input4:***  \n",
    "1 9  \n",
    "***Output4:***  \n",
    "-1"
   ]
  },
  {
   "cell_type": "code",
   "execution_count": 7,
   "id": "0143ef2e",
   "metadata": {},
   "outputs": [
    {
     "name": "stdout",
     "output_type": "stream",
     "text": [
      "1 9\n",
      "-1\n"
     ]
    }
   ],
   "source": [
    "# Write your code here\n",
    "a,b=map(int,input().split())\n",
    "c=21-a-b\n",
    "if c>=1 and c<=10:\n",
    "    print(c)\n",
    "else:\n",
    "    print(-1)\n"
   ]
  },
  {
   "cell_type": "markdown",
   "id": "0edeb7c3",
   "metadata": {},
   "source": [
    "## Exercise 3\n",
    "\n",
    "Ram received N candies on his birthday. He wants to put these candies in some bags. A bag has K pockets and each pocket can hold at most M candies. Find the minimum number of bags Ram needs so that he can put every candy into a bag.\n",
    "\n",
    "**Sample I/O**  \n",
    "\n",
    "***Input1:***  \n",
    "6 2 3  \n",
    "***Output1:***  \n",
    "1  \n",
    "\n",
    "***Input2:***  \n",
    "3 1 2  \n",
    "***Output2:***  \n",
    "2\n",
    "\n",
    "***Input3:***  \n",
    "8 4 1  \n",
    "***Output3:***  \n",
    "2  \n",
    "\n",
    "***Input4:***  \n",
    "25 4 2  \n",
    "***Output4:***  \n",
    "4  "
   ]
  },
  {
   "cell_type": "code",
   "execution_count": 12,
   "id": "f186e352",
   "metadata": {},
   "outputs": [
    {
     "name": "stdout",
     "output_type": "stream",
     "text": [
      "25 4 2\n",
      "4\n"
     ]
    }
   ],
   "source": [
    "# Write your code here\n",
    "n,k,m=map(int,input().split())\n",
    "t=k*m\n",
    "if n%t==0:\n",
    "    print(n//t)\n",
    "else:\n",
    "    print((n//t)+1)"
   ]
  },
  {
   "cell_type": "markdown",
   "id": "2791b281",
   "metadata": {},
   "source": [
    "## Exercise 4\n",
    "\n",
    "Tom has N friends. Tom promised that he would gift a pair of shoes (consisting of one left shoe and one right shoe) to each of his N friends. Tom was about to go to the marketplace to buy shoes, but he suddenly remembers that he already had M left shoes.\n",
    "\n",
    "What is the minimum number of extra shoes that Tom will have to buy to ensure that he is able to gift a pair of shoes to each of his N friends?\n",
    "\n",
    "For example, if N = 2, M = 4, then Tom already has 4 left shoes, so he must buy 2 extra right shoes to form 2 pairs of shoes.\n",
    "\n",
    "Therefore Tom must buy at least 2 extra shoes to ensure that he is able to get 2 pairs of shoes.\n",
    "\n",
    "**Sample I/O**  \n",
    "\n",
    "***Input1:***  \n",
    "2 4  \n",
    "***Output1:***  \n",
    "2    \n",
    "\n",
    "***Input2:***  \n",
    "6 0  \n",
    "***Output2:***  \n",
    "12  \n",
    "\n",
    "***Input3:***  \n",
    "4 3   \n",
    "***Output3:***  \n",
    "5  \n",
    "\n",
    "***Input4:***  \n",
    "7 5  \n",
    "***Output4:***  \n",
    "9  "
   ]
  },
  {
   "cell_type": "code",
   "execution_count": 42,
   "id": "c02c581d",
   "metadata": {},
   "outputs": [
    {
     "name": "stdout",
     "output_type": "stream",
     "text": [
      "7 5\n",
      "9\n"
     ]
    }
   ],
   "source": [
    "# Write your code here\n",
    "n,m=map(int,input().split())\n",
    "s=n*2\n",
    "if m>=n:\n",
    "    print(n)\n",
    "else:\n",
    "    t=s-m\n",
    "    print(t)"
   ]
  },
  {
   "cell_type": "markdown",
   "id": "e12ebe3f",
   "metadata": {},
   "source": [
    "## Exercise 5\n",
    "\n",
    "A single car can accommodate at most 4 people.\n",
    "\n",
    "N friends want to go to a restaurant for a party. Find the minimum number of cars required to accommodate all the friends.\n",
    "\n",
    "**Sample I/O**  \n",
    "\n",
    "***Input1:***  \n",
    "4<br>\n",
    "***Output1:***  \n",
    "1    \n",
    "\n",
    "***Input2:***  \n",
    "2<br>\n",
    "***Output2:***  \n",
    "1  \n",
    "\n",
    "***Input3:***  \n",
    "7<br>\n",
    "***Output3:***  \n",
    "2  \n",
    "\n",
    "***Input4:***  \n",
    "98  \n",
    "***Output4:***  \n",
    "25  "
   ]
  },
  {
   "cell_type": "code",
   "execution_count": 52,
   "id": "c4fc565f",
   "metadata": {},
   "outputs": [
    {
     "name": "stdout",
     "output_type": "stream",
     "text": [
      "98\n",
      "25\n"
     ]
    }
   ],
   "source": [
    "# Write your code here\n",
    "n=int(input())\n",
    "if n%4==0:\n",
    "    print(n//4)\n",
    "else:\n",
    "    print((n//4)+1)"
   ]
  },
  {
   "cell_type": "markdown",
   "id": "b9318c73",
   "metadata": {},
   "source": [
    "## Exercise 6\n",
    "\n",
    "In a coding contest, there are two types of problems:\n",
    "\n",
    "- Easy problems, which are worth 1 point each\n",
    "- Hard problems, which are worth 2 points each\n",
    "\n",
    "To qualify for the next round, a contestant must score at least X points. Professor solved A Easy problems and B Hard problems. Will Professor qualify or not?\n",
    "\n",
    "**Sample I/O**  \n",
    "\n",
    "***Input1:***  \n",
    "15 9 3  \n",
    "***Output1:***  \n",
    "Qualify  \n",
    "\n",
    "***Input2:***  \n",
    "5 3 0  \n",
    "***Output2:***  \n",
    "Not Qualify  \n",
    "\n",
    "***Input3:***  \n",
    "6 2 8  \n",
    "***Output3:***  \n",
    "Qualify  \n",
    "\n",
    "***Input4:***  \n",
    "22 11 5  \n",
    "***Output4:***  \n",
    "Not Qualify  "
   ]
  },
  {
   "cell_type": "code",
   "execution_count": 56,
   "id": "ad9ca4d9",
   "metadata": {},
   "outputs": [
    {
     "name": "stdout",
     "output_type": "stream",
     "text": [
      "22 11 5\n",
      "Not Qualify\n"
     ]
    }
   ],
   "source": [
    "# Write your code here\n",
    "x,a,b=map(int,input().split())\n",
    "m=a*1+b*2\n",
    "if m>=x:\n",
    "    print(\"Qualify\")\n",
    "else:\n",
    "    print(\"Not Qualify\")"
   ]
  },
  {
   "cell_type": "markdown",
   "id": "419dd6b6",
   "metadata": {},
   "source": [
    "## Exercise 7\n",
    "\n",
    "The summer is at its peak in Marioland. Mario is planning to purchase a water cooler to keep his room cool. He has two options available:\n",
    "\n",
    "- Rent a cooler at the cost of X coins per month.\n",
    "- Purchase a cooler for Y coins.\n",
    "\n",
    "Given that the summer season will last for M months in Marioland, help Mario in finding whether he should rent the cooler or not.\n",
    "\n",
    "Mario rents the cooler only if the cost of renting the cooler is **strictly less than** the cost of purchasing it. Otherwise, he purchases the cooler.\n",
    "\n",
    "Print $\\text{YES}$ if Mario should rent the cooler, otherwise print $\\text{NO}$.\n",
    "\n",
    "***Input Format:*** Input contains X, Y and M - as discussed in Problem statement\n",
    "\n",
    "**Sample I/O**  \n",
    "\n",
    "***Input1:***  \n",
    "5 10 1  \n",
    "***Output1:***  \n",
    "YES  \n",
    "\n",
    "***Input2:***  \n",
    "10 20 2  \n",
    "***Output2:***  \n",
    "NO  \n",
    "\n",
    "***Input3:***  \n",
    "12 47 4  \n",
    "***Output3:***  \n",
    "NO  \n",
    "\n",
    "***Input4:***  \n",
    "16 100 6  \n",
    "***Output4:***  \n",
    "YES  "
   ]
  },
  {
   "cell_type": "code",
   "execution_count": 60,
   "id": "b322bdb4",
   "metadata": {},
   "outputs": [
    {
     "name": "stdout",
     "output_type": "stream",
     "text": [
      "16 100 6\n",
      "YES\n"
     ]
    }
   ],
   "source": [
    "# Write your code here\n",
    "x,y,m=map(int,input().split())\n",
    "r=x*m\n",
    "if r<y:\n",
    "    print(\"YES\")\n",
    "else:\n",
    "    print(\"NO\")"
   ]
  },
  {
   "cell_type": "markdown",
   "id": "c358a228",
   "metadata": {},
   "source": [
    "## Exercise 8\n",
    "\n",
    "There is a group of N friends who wish to enroll in a course together. The course has a maximum capacity of M students that can register for it. If there are K other students who have already enrolled in the course, determine if it will still be possible for all the N friends to do so or not.\n",
    "\n",
    "- It is guaranteed that K $\\leq$ M\n",
    "\n",
    "**Sample I/O**  \n",
    "\n",
    "***Input1:***  \n",
    "2 50 27  \n",
    "***Output1:***  \n",
    "YES    \n",
    "\n",
    "***Input2:***  \n",
    "4 40 38  \n",
    "***Output2:***  \n",
    "NO  \n",
    "\n",
    "***Input3:***  \n",
    "20 100 81  \n",
    "***Output3:***  \n",
    "NO  \n",
    "\n",
    "***Input4:***  \n",
    "100 100 0  \n",
    "***Output4:***  \n",
    "YES  "
   ]
  },
  {
   "cell_type": "code",
   "execution_count": 64,
   "id": "6fd65f25",
   "metadata": {},
   "outputs": [
    {
     "name": "stdout",
     "output_type": "stream",
     "text": [
      "100 100 0\n",
      "YES\n"
     ]
    }
   ],
   "source": [
    "# Write your code here\n",
    "n,m,k=map(int,input().split())\n",
    "if n+k<=m:\n",
    "    print(\"YES\")\n",
    "else:\n",
    "    print(\"NO\")"
   ]
  },
  {
   "cell_type": "markdown",
   "id": "ed223ed3",
   "metadata": {},
   "source": [
    "## Exercise 9\n",
    "\n",
    "Akshat has X rupees to spend in the current month. His daily expenditure is Y rupees, i.e., he spends Y rupees each day.\n",
    "\n",
    "Given that the current month has 30 days, find out if Akshat has enough money to meet his daily expenditures for this month.\n",
    "\n",
    "**Sample I/O**  \n",
    "\n",
    "***Input1:***  \n",
    "1000 10  \n",
    "***Output1:***  \n",
    "YES  \n",
    "\n",
    "***Input2:***  \n",
    "250 50  \n",
    "***Output2:***  \n",
    "NO  \n",
    "\n",
    "***Input3:***  \n",
    "1200 40  \n",
    "***Output3:***  \n",
    "YES  \n",
    "\n",
    "***Input4:***  \n",
    "2900 100  \n",
    "***Output4:***  \n",
    "NO  "
   ]
  },
  {
   "cell_type": "code",
   "execution_count": 74,
   "id": "bfae86a7",
   "metadata": {},
   "outputs": [
    {
     "name": "stdout",
     "output_type": "stream",
     "text": [
      "2900 100\n",
      "NO\n"
     ]
    }
   ],
   "source": [
    "# Write your code here\n",
    "x,y=map(int,input().split())\n",
    "e=30*y\n",
    "if e<=x:\n",
    "    print(\"YES\")\n",
    "else:\n",
    "    print(\"NO\")"
   ]
  }
 ],
 "metadata": {
  "kernelspec": {
   "display_name": "Python 3 (ipykernel)",
   "language": "python",
   "name": "python3"
  },
  "language_info": {
   "codemirror_mode": {
    "name": "ipython",
    "version": 3
   },
   "file_extension": ".py",
   "mimetype": "text/x-python",
   "name": "python",
   "nbconvert_exporter": "python",
   "pygments_lexer": "ipython3",
   "version": "3.9.13"
  },
  "latex_envs": {
   "LaTeX_envs_menu_present": true,
   "autoclose": false,
   "autocomplete": true,
   "bibliofile": "biblio.bib",
   "cite_by": "apalike",
   "current_citInitial": 1,
   "eqLabelWithNumbers": true,
   "eqNumInitial": 1,
   "hotkeys": {
    "equation": "Ctrl-E",
    "itemize": "Ctrl-I"
   },
   "labels_anchors": false,
   "latex_user_defs": false,
   "report_style_numbering": false,
   "user_envs_cfg": false
  },
  "toc": {
   "base_numbering": 1,
   "nav_menu": {},
   "number_sections": true,
   "sideBar": true,
   "skip_h1_title": false,
   "title_cell": "Table of Contents",
   "title_sidebar": "Contents",
   "toc_cell": false,
   "toc_position": {},
   "toc_section_display": true,
   "toc_window_display": false
  }
 },
 "nbformat": 4,
 "nbformat_minor": 5
}
