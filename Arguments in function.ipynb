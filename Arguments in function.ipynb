{
 "cells": [
  {
   "cell_type": "code",
   "execution_count": 1,
   "id": "6eee0331",
   "metadata": {},
   "outputs": [
    {
     "name": "stdout",
     "output_type": "stream",
     "text": [
      "Mumbai is in India, which is in Asia\n"
     ]
    }
   ],
   "source": [
    "# 1 positional, keyword and default arguments in functions\n",
    "\n",
    "#function definition\n",
    "def location(city, country, continent): # parameters------>3 parameters\n",
    "    print(f'{city} is in {country}, which is in {continent}')\n",
    "# function call\n",
    "location(\"Mumbai\",\"India\", \"Asia\") # Positional Arguments---->3 arguments"
   ]
  },
  {
   "cell_type": "code",
   "execution_count": 5,
   "id": "a2e0f01d",
   "metadata": {},
   "outputs": [
    {
     "ename": "SyntaxError",
     "evalue": "positional argument follows keyword argument (2659209970.py, line 5)",
     "output_type": "error",
     "traceback": [
      "\u001b[1;36m  File \u001b[1;32m\"C:\\Users\\Bina Computer\\AppData\\Local\\Temp\\ipykernel_16900\\2659209970.py\"\u001b[1;36m, line \u001b[1;32m5\u001b[0m\n\u001b[1;33m    location(country=\"India\", continent\"Asia\", city=\"Mumbai\") # keyword Arguments\u001b[0m\n\u001b[1;37m                                       ^\u001b[0m\n\u001b[1;31mSyntaxError\u001b[0m\u001b[1;31m:\u001b[0m positional argument follows keyword argument\n"
     ]
    }
   ],
   "source": [
    "#function definition\n",
    "def location(city, country, continent): # parameters\n",
    "    print(f'{city} is in {country}, which is in {continent}')\n",
    "# function call\n",
    "location(country=\"India\", continent\"Asia\", city=\"Mumbai\") # keyword Arguments"
   ]
  },
  {
   "cell_type": "code",
   "execution_count": 12,
   "id": "b604e3a9",
   "metadata": {},
   "outputs": [
    {
     "ename": "TypeError",
     "evalue": "location() got an unexpected keyword argument 'Country'",
     "output_type": "error",
     "traceback": [
      "\u001b[1;31m---------------------------------------------------------------------------\u001b[0m",
      "\u001b[1;31mTypeError\u001b[0m                                 Traceback (most recent call last)",
      "\u001b[1;32m~\\AppData\\Local\\Temp\\ipykernel_16900\\2578699584.py\u001b[0m in \u001b[0;36m<module>\u001b[1;34m\u001b[0m\n\u001b[0;32m      3\u001b[0m     \u001b[0mprint\u001b[0m\u001b[1;33m(\u001b[0m\u001b[1;34mf'{city} is in {country}, which is in {continent}'\u001b[0m\u001b[1;33m)\u001b[0m\u001b[1;33m\u001b[0m\u001b[1;33m\u001b[0m\u001b[0m\n\u001b[0;32m      4\u001b[0m \u001b[1;31m# function call\u001b[0m\u001b[1;33m\u001b[0m\u001b[1;33m\u001b[0m\u001b[0m\n\u001b[1;32m----> 5\u001b[1;33m \u001b[0mlocation\u001b[0m\u001b[1;33m(\u001b[0m\u001b[0mCountry\u001b[0m\u001b[1;33m=\u001b[0m\u001b[1;34m\"India\"\u001b[0m\u001b[1;33m,\u001b[0m \u001b[0mcontinent\u001b[0m\u001b[1;33m=\u001b[0m\u001b[1;34m\"Asia\"\u001b[0m\u001b[1;33m,\u001b[0m \u001b[0mcity\u001b[0m\u001b[1;33m=\u001b[0m\u001b[1;34m\"Mumbai\"\u001b[0m\u001b[1;33m)\u001b[0m \u001b[1;31m# keyword Arguments\u001b[0m\u001b[1;33m\u001b[0m\u001b[1;33m\u001b[0m\u001b[0m\n\u001b[0m",
      "\u001b[1;31mTypeError\u001b[0m: location() got an unexpected keyword argument 'Country'"
     ]
    }
   ],
   "source": [
    "#function definition\n",
    "def location(city, country, continent): # parameters\n",
    "    print(f'{city} is in {country}, which is in {continent}')\n",
    "# function call\n",
    "location(Country=\"India\", continent=\"Asia\", city=\"Mumbai\") # keyword Arguments"
   ]
  },
  {
   "cell_type": "code",
   "execution_count": 13,
   "id": "a670e61c",
   "metadata": {},
   "outputs": [
    {
     "name": "stdout",
     "output_type": "stream",
     "text": [
      "Mumbai is in India, which is in Asia\n"
     ]
    }
   ],
   "source": [
    "#function definition\n",
    "def location(city, country, continent): # parameters\n",
    "    print(f'{city} is in {country}, which is in {continent}')\n",
    "# function call\n",
    "location(country=\"India\", continent=\"Asia\", city=\"Mumbai\") # keyword Arguments"
   ]
  },
  {
   "cell_type": "code",
   "execution_count": 6,
   "id": "ea92571d",
   "metadata": {},
   "outputs": [
    {
     "ename": "TypeError",
     "evalue": "location() missing 2 required positional arguments: 'country' and 'continent'",
     "output_type": "error",
     "traceback": [
      "\u001b[1;31m---------------------------------------------------------------------------\u001b[0m",
      "\u001b[1;31mTypeError\u001b[0m                                 Traceback (most recent call last)",
      "\u001b[1;32m~\\AppData\\Local\\Temp\\ipykernel_16900\\2565888187.py\u001b[0m in \u001b[0;36m<module>\u001b[1;34m\u001b[0m\n\u001b[0;32m      3\u001b[0m     \u001b[0mprint\u001b[0m\u001b[1;33m(\u001b[0m\u001b[1;34mf'{city} is in {country}, which is in {continent}'\u001b[0m\u001b[1;33m)\u001b[0m\u001b[1;33m\u001b[0m\u001b[1;33m\u001b[0m\u001b[0m\n\u001b[0;32m      4\u001b[0m \u001b[1;31m# function call\u001b[0m\u001b[1;33m\u001b[0m\u001b[1;33m\u001b[0m\u001b[0m\n\u001b[1;32m----> 5\u001b[1;33m \u001b[0mlocation\u001b[0m\u001b[1;33m(\u001b[0m\u001b[1;34m\"Mumbai\"\u001b[0m\u001b[1;33m)\u001b[0m \u001b[1;31m# default Arguments\u001b[0m\u001b[1;33m\u001b[0m\u001b[1;33m\u001b[0m\u001b[0m\n\u001b[0m",
      "\u001b[1;31mTypeError\u001b[0m: location() missing 2 required positional arguments: 'country' and 'continent'"
     ]
    }
   ],
   "source": [
    "#function definition\n",
    "def location(city, country, continent): # parameters\n",
    "    print(f'{city} is in {country}, which is in {continent}')\n",
    "# function call\n",
    "location(\"Mumbai\") # default Arguments"
   ]
  },
  {
   "cell_type": "code",
   "execution_count": 7,
   "id": "e8c4d602",
   "metadata": {},
   "outputs": [
    {
     "ename": "TypeError",
     "evalue": "location() missing 1 required positional argument: 'continent'",
     "output_type": "error",
     "traceback": [
      "\u001b[1;31m---------------------------------------------------------------------------\u001b[0m",
      "\u001b[1;31mTypeError\u001b[0m                                 Traceback (most recent call last)",
      "\u001b[1;32m~\\AppData\\Local\\Temp\\ipykernel_16900\\1585185040.py\u001b[0m in \u001b[0;36m<module>\u001b[1;34m\u001b[0m\n\u001b[0;32m      3\u001b[0m     \u001b[0mprint\u001b[0m\u001b[1;33m(\u001b[0m\u001b[1;34mf'{city} is in {country}, which is in {continent}'\u001b[0m\u001b[1;33m)\u001b[0m\u001b[1;33m\u001b[0m\u001b[1;33m\u001b[0m\u001b[0m\n\u001b[0;32m      4\u001b[0m \u001b[1;31m# function call\u001b[0m\u001b[1;33m\u001b[0m\u001b[1;33m\u001b[0m\u001b[0m\n\u001b[1;32m----> 5\u001b[1;33m \u001b[0mlocation\u001b[0m\u001b[1;33m(\u001b[0m\u001b[1;34m\"Mumbai\"\u001b[0m\u001b[1;33m,\u001b[0m\u001b[1;34m\"India\"\u001b[0m\u001b[1;33m)\u001b[0m \u001b[1;31m# default Arguments\u001b[0m\u001b[1;33m\u001b[0m\u001b[1;33m\u001b[0m\u001b[0m\n\u001b[0m",
      "\u001b[1;31mTypeError\u001b[0m: location() missing 1 required positional argument: 'continent'"
     ]
    }
   ],
   "source": [
    "#function definition\n",
    "def location(city, country, continent): # parameters\n",
    "    print(f'{city} is in {country}, which is in {continent}')\n",
    "# function call\n",
    "location(\"Mumbai\",\"India\") # default Arguments"
   ]
  },
  {
   "cell_type": "code",
   "execution_count": 8,
   "id": "37271c5e",
   "metadata": {},
   "outputs": [
    {
     "name": "stdout",
     "output_type": "stream",
     "text": [
      "Mumbai is in India, which is in Asia\n"
     ]
    }
   ],
   "source": [
    "#function definition\n",
    "def location(city, country, continent): # parameters\n",
    "    print(f'{city} is in {country}, which is in {continent}')\n",
    "# function call\n",
    "location(\"Mumbai\",\"India\",\"Asia\") # default Arguments"
   ]
  },
  {
   "cell_type": "code",
   "execution_count": 14,
   "id": "9489e2a7",
   "metadata": {},
   "outputs": [
    {
     "ename": "TypeError",
     "evalue": "location() missing 3 required positional arguments: 'city', 'country', and 'continent'",
     "output_type": "error",
     "traceback": [
      "\u001b[1;31m---------------------------------------------------------------------------\u001b[0m",
      "\u001b[1;31mTypeError\u001b[0m                                 Traceback (most recent call last)",
      "\u001b[1;32m~\\AppData\\Local\\Temp\\ipykernel_16900\\4064233206.py\u001b[0m in \u001b[0;36m<module>\u001b[1;34m\u001b[0m\n\u001b[0;32m      3\u001b[0m     \u001b[0mprint\u001b[0m\u001b[1;33m(\u001b[0m\u001b[1;34mf'{city} is in {country}, which is in {continent}'\u001b[0m\u001b[1;33m)\u001b[0m\u001b[1;33m\u001b[0m\u001b[1;33m\u001b[0m\u001b[0m\n\u001b[0;32m      4\u001b[0m \u001b[1;31m# function call\u001b[0m\u001b[1;33m\u001b[0m\u001b[1;33m\u001b[0m\u001b[0m\n\u001b[1;32m----> 5\u001b[1;33m \u001b[0mlocation\u001b[0m\u001b[1;33m(\u001b[0m\u001b[1;33m)\u001b[0m \u001b[1;31m# default Arguments\u001b[0m\u001b[1;33m\u001b[0m\u001b[1;33m\u001b[0m\u001b[0m\n\u001b[0m",
      "\u001b[1;31mTypeError\u001b[0m: location() missing 3 required positional arguments: 'city', 'country', and 'continent'"
     ]
    }
   ],
   "source": [
    "#function definition\n",
    "def location(city, country, continent): # parameters\n",
    "    print(f'{city} is in {country}, which is in {continent}')\n",
    "# function call\n",
    "location() # default Arguments"
   ]
  },
  {
   "cell_type": "code",
   "execution_count": 15,
   "id": "fb261586",
   "metadata": {},
   "outputs": [
    {
     "name": "stdout",
     "output_type": "stream",
     "text": [
      "Mumbai is in India, which is in Asia\n"
     ]
    }
   ],
   "source": [
    "#function definition\n",
    "def location(city, country, continent=\"Asia\"): # default Arguments\n",
    "    print(f'{city} is in {country}, which is in {continent}')\n",
    "# function call\n",
    "location(\"Mumbai\",\"India\") # 2 Arguments"
   ]
  },
  {
   "cell_type": "code",
   "execution_count": 16,
   "id": "bbfc92a8",
   "metadata": {},
   "outputs": [
    {
     "name": "stdout",
     "output_type": "stream",
     "text": [
      "Kathmandu is in Nepal, which is in Asia\n"
     ]
    }
   ],
   "source": [
    "#function definition\n",
    "def location(city, country, continent=\"North America\"): # default Arguments\n",
    "    print(f'{city} is in {country}, which is in {continent}')\n",
    "# function call\n",
    "location(\"Kathmandu\",\"Nepal\",\"Asia\") # 2 Arguments"
   ]
  },
  {
   "cell_type": "code",
   "execution_count": 17,
   "id": "cb34c6b2",
   "metadata": {},
   "outputs": [
    {
     "name": "stdout",
     "output_type": "stream",
     "text": [
      "Mumbai is in India, which is in Asia\n",
      "Hydrabad is in India, which is in Asia\n",
      "Tokyo is in Japan, which is in Asia\n",
      "Berlin is in Germany, which is in Europe\n"
     ]
    }
   ],
   "source": [
    "#function definition\n",
    "def location(city=\"Mumbai\", country=\"India\", continent=\"Asia\"): # default Arguments\n",
    "    print(f'{city} is in {country}, which is in {continent}')\n",
    "# function call\n",
    "location() # no Arguments\n",
    "location(\"Hydrabad\")\n",
    "location(\"Tokyo\",\"Japan\")\n",
    "location(\"Berlin\",\"Germany\",\"Europe\")"
   ]
  },
  {
   "cell_type": "code",
   "execution_count": null,
   "id": "9b65cda8",
   "metadata": {},
   "outputs": [],
   "source": []
  }
 ],
 "metadata": {
  "kernelspec": {
   "display_name": "Python 3 (ipykernel)",
   "language": "python",
   "name": "python3"
  },
  "language_info": {
   "codemirror_mode": {
    "name": "ipython",
    "version": 3
   },
   "file_extension": ".py",
   "mimetype": "text/x-python",
   "name": "python",
   "nbconvert_exporter": "python",
   "pygments_lexer": "ipython3",
   "version": "3.9.13"
  }
 },
 "nbformat": 4,
 "nbformat_minor": 5
}
