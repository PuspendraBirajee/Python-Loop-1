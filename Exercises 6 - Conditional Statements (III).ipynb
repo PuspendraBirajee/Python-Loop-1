{
 "cells": [
  {
   "cell_type": "markdown",
   "id": "a6ae83f1",
   "metadata": {},
   "source": [
    "# Programs on Conditional Statements (III)"
   ]
  },
  {
   "cell_type": "markdown",
   "id": "d3bfbdde",
   "metadata": {},
   "source": [
    "## Exercise 1\n",
    "\n",
    "Given the marks (out of 100) of 5 different subjects viz. English, Maths, Physics, Chemistry, Computer Science. Determine if the student **PASSED** or **FAILED** in exam.\n",
    "- A student is cosidered PASS if and only if he/she gets more than 34 marks in EACH and EVERY subject\n",
    "\n",
    "**Sample I/O**  \n",
    "\n",
    "***Input1:***  \n",
    "35 35 35 25 35  \n",
    "***Output1:***  \n",
    "FAILED\n",
    "\n",
    "***Input2:***  \n",
    "90 85 72 64 37  \n",
    "***Output2:***  \n",
    "PASSED  \n",
    "\n",
    "***Input3:***  \n",
    "20 95 95 95 95  \n",
    "***Output3:***  \n",
    "FAILED  \n",
    "\n",
    "***Input4:***  \n",
    "77 45 66 39 51  \n",
    "***Output4:***  \n",
    "PASSED"
   ]
  },
  {
   "cell_type": "code",
   "execution_count": 13,
   "id": "2d47b516",
   "metadata": {},
   "outputs": [
    {
     "name": "stdout",
     "output_type": "stream",
     "text": [
      "74 45 66 39 51\n",
      "PASSED\n"
     ]
    }
   ],
   "source": [
    "# Write your code here\n",
    "e,m,p,c,co=map(int,input().split())\n",
    "if e>=34 and m>=34 and p>=34 and c>=34 and co>=34:\n",
    "    print(\"PASSED\")\n",
    "else:\n",
    "    print(\"FAILED\")"
   ]
  },
  {
   "cell_type": "markdown",
   "id": "addb9f9a",
   "metadata": {},
   "source": [
    "## Exercise 2\n",
    "\n",
    "Find out if the given character is VOWEL or CONSONANT.\n",
    "\n",
    "**Sample I/O**  \n",
    "\n",
    "***Input1:***  \n",
    "a<br>\n",
    "***Output1:***  \n",
    "VOWEL  \n",
    "\n",
    "***Input2:***  \n",
    "Z<br>\n",
    "***Output2:***  \n",
    "CONSONANT\n",
    "\n",
    "***Input3:***  \n",
    "I<br>\n",
    "***Output3:***  \n",
    "VOWEL  \n",
    "\n",
    "***Input4:***  \n",
    "p<br>\n",
    "***Output4:***  \n",
    "CONSONANT"
   ]
  },
  {
   "cell_type": "code",
   "execution_count": 11,
   "id": "bbfdedbd",
   "metadata": {},
   "outputs": [
    {
     "name": "stdout",
     "output_type": "stream",
     "text": [
      "p\n",
      "Consonant\n"
     ]
    }
   ],
   "source": [
    "# Write your code here\n",
    "ch = input()\n",
    "if ch == 'a' or ch == 'e' or ch == 'i' or ch == 'o' or ch == 'u' or ch == 'A' or ch == 'E' or ch == 'I' or ch == 'O' or ch == 'U':\n",
    "    print('Vowel')\n",
    "else:\n",
    "    print('Consonant')"
   ]
  },
  {
   "cell_type": "markdown",
   "id": "0edeb7c3",
   "metadata": {},
   "source": [
    "## Exercise 3\n",
    "\n",
    "tourist's current rating is X, and he wants to improve it. It is generally recommended that a person with rating X should solve problems whose difficulty lies in the range [X, X+200], i.e, problems whose difficulty is at least X and at most X+200.\n",
    "\n",
    "You find out that tourist is currently solving problems with a difficulty of Y.\n",
    "\n",
    "Is tourist following the recommended practice or not?\n",
    "\n",
    "**Sample I/O**  \n",
    "\n",
    "***Input1:***  \n",
    "1300 1500  \n",
    "***Output1:***  \n",
    "YES  \n",
    "\n",
    "***Input2:***  \n",
    "1201 1402  \n",
    "***Output2:***  \n",
    "NO\n",
    "\n",
    "***Input3:***  \n",
    "1300 512  \n",
    "***Output3:***  \n",
    "NO  \n",
    "\n",
    "***Input4:***  \n",
    "723 805  \n",
    "***Output4:***  \n",
    "YES"
   ]
  },
  {
   "cell_type": "code",
   "execution_count": 17,
   "id": "f186e352",
   "metadata": {},
   "outputs": [
    {
     "name": "stdout",
     "output_type": "stream",
     "text": [
      "723 805\n",
      "YES\n"
     ]
    }
   ],
   "source": [
    "# Write your code here\n",
    "x,y=map(int,input().split())\n",
    "if y>=x and y<=x+200:\n",
    "    print(\"YES\")\n",
    "else:\n",
    "    print(\"NO\")"
   ]
  },
  {
   "cell_type": "markdown",
   "id": "2791b281",
   "metadata": {},
   "source": [
    "## Exercise 4\n",
    "\n",
    "Mathman considers a number Y as **MAGICAL** if and only if it's divisible by X and not divisible by Z.\n",
    "\n",
    "Given X, Y, Z, find out if Y is **MAGICAL** or **NOT MAGICAL**.\n",
    "\n",
    "**Sample I/O**  \n",
    "\n",
    "***Input1:***  \n",
    "2 26 4  \n",
    "***Output1:***  \n",
    "MAGICAL    \n",
    "\n",
    "***Input2:***  \n",
    "12 60 30  \n",
    "***Output2:***  \n",
    "NOT MAGICAL  \n",
    "\n",
    "***Input3:***  \n",
    "3 8 4  \n",
    "***Output3:***  \n",
    "NOT MAGICAL  \n",
    "\n",
    "***Input4:***  \n",
    "10 120 61  \n",
    "***Output4:***  \n",
    "MAGICAL  "
   ]
  },
  {
   "cell_type": "code",
   "execution_count": 21,
   "id": "c02c581d",
   "metadata": {},
   "outputs": [
    {
     "name": "stdout",
     "output_type": "stream",
     "text": [
      "10 120 61\n",
      "MAGICAL\n"
     ]
    }
   ],
   "source": [
    "# Write your code here\n",
    "x,y,z=map(int,input().split())\n",
    "if y%x==0 and y%z!=0:\n",
    "    print(\"MAGICAL\")\n",
    "else:\n",
    "    print(\"NOT MAGICAL\")"
   ]
  },
  {
   "cell_type": "markdown",
   "id": "e12ebe3f",
   "metadata": {},
   "source": [
    "## Exercise 5\n",
    "\n",
    "Bakasur has his lunch only between 2 pm and 4 pm (both inclusive).\n",
    "\n",
    "Given that the current time is X pm, find out whether it is lunchtime for Bakasur.\n",
    "\n",
    "**Sample I/O**  \n",
    "\n",
    "***Input1:***  \n",
    "2<br>\n",
    "***Output1:***  \n",
    "YES    \n",
    "\n",
    "***Input2:***  \n",
    "5<br>\n",
    "***Output2:***  \n",
    "NO  \n",
    "\n",
    "***Input3:***  \n",
    "3<br>\n",
    "***Output3:***  \n",
    "YES  \n",
    "\n",
    "***Input4:***  \n",
    "7<br>\n",
    "***Output4:***  \n",
    "NO  "
   ]
  },
  {
   "cell_type": "code",
   "execution_count": 29,
   "id": "c4fc565f",
   "metadata": {},
   "outputs": [
    {
     "name": "stdout",
     "output_type": "stream",
     "text": [
      "7\n",
      "NO\n"
     ]
    }
   ],
   "source": [
    "# Write your code here\n",
    "x=int(input())\n",
    "if x>=2 and x<=4:\n",
    "    print(\"YES\")\n",
    "else:\n",
    "    print(\"NO\")"
   ]
  },
  {
   "cell_type": "code",
   "execution_count": 34,
   "id": "7c1f0b1b",
   "metadata": {},
   "outputs": [
    {
     "name": "stdout",
     "output_type": "stream",
     "text": [
      "5\n",
      "NO\n"
     ]
    }
   ],
   "source": [
    "# Write your code here\n",
    "x=int(input())\n",
    "if x in range(2,5):\n",
    "    print(\"YES\")\n",
    "else:\n",
    "    print(\"NO\")"
   ]
  },
  {
   "cell_type": "markdown",
   "id": "b9318c73",
   "metadata": {},
   "source": [
    "## Exercise 6\n",
    "\n",
    "Django appeared for an exam consisting of 3 sections. Each section is worth 100 marks.\n",
    "\n",
    "Django scored A marks in Section 1, B marks in section 2, and C marks in section 3.\n",
    "\n",
    "Django passes the exam if **both** of the following conditions satisfy:\n",
    "\n",
    "- Total score of Django is $\\geq$100\n",
    "- Score of each section $\\geq$10\n",
    "\n",
    "Determine whether Django passes the exam or not.\n",
    "\n",
    "**Sample I/O**  \n",
    "\n",
    "***Input1:***  \n",
    "9 100 100  \n",
    "***Output1:***  \n",
    "FAIL  \n",
    "\n",
    "***Input2:***  \n",
    "30 40 50  \n",
    "***Output2:***  \n",
    "PASS  \n",
    "\n",
    "***Input3:***  \n",
    "30 30 40  \n",
    "***Output3:***  \n",
    "PASS  \n",
    "\n",
    "***Input4:***  \n",
    "0 98 8  \n",
    "***Output4:***  \n",
    "FAIL  "
   ]
  },
  {
   "cell_type": "code",
   "execution_count": 38,
   "id": "ad9ca4d9",
   "metadata": {},
   "outputs": [
    {
     "name": "stdout",
     "output_type": "stream",
     "text": [
      "0 98 8\n",
      "FAIL\n"
     ]
    }
   ],
   "source": [
    "# Write your code here\n",
    "a,b,c=map(int,input().split())\n",
    "if a+b+c>=100 and a>=10 and b>=10 and c>=10:\n",
    "     print(\"PASS\")\n",
    "else:\n",
    "    print(\"FAIL\")"
   ]
  },
  {
   "cell_type": "markdown",
   "id": "419dd6b6",
   "metadata": {},
   "source": [
    "## Exercise 7\n",
    "\n",
    "In the medieval age, there were 3 kingdoms A, B, and C. The army of these kingdom had $N_A$, $N_B$ and $N_C$ soldiers respectively.\n",
    "\n",
    "You are given that an army with X soldiers can defeat an army with Y soldiers only if X $\\gt$ Y.\n",
    "\n",
    "An army is said to be dominant if it can defeat both the other armies combined. For example, kingdom C's army will be dominant only if $N_C$ $\\gt$ $N_A$ + $N_B$\n",
    "\n",
    "Determine whether any of the armies is dominant or not.\n",
    "\n",
    "***Input Format:*** Input contains three integers $N_A$, $N_B$ and $N_C$ - the number of warriors in the armies of kingdoms A, B and C respectively.\n",
    "\n",
    "**Sample I/O**  \n",
    "\n",
    "***Input1:***  \n",
    "15 6 6  \n",
    "***Output1:***  \n",
    "YES  \n",
    "\n",
    "***Input2:***  \n",
    "12 13 16  \n",
    "***Output2:***  \n",
    "NO  \n",
    "\n",
    "***Input3:***  \n",
    "40 141 100  \n",
    "***Output3:***  \n",
    "YES  \n",
    "\n",
    "***Input4:***  \n",
    "10 10 20  \n",
    "***Output4:***  \n",
    "NO  "
   ]
  },
  {
   "cell_type": "code",
   "execution_count": 52,
   "id": "b322bdb4",
   "metadata": {},
   "outputs": [
    {
     "name": "stdout",
     "output_type": "stream",
     "text": [
      "10 10 20\n",
      "NO\n"
     ]
    }
   ],
   "source": [
    "# Write your code here\n",
    "na,nb,nc=map(int,input().split())\n",
    "if na>nb+nc or nb>na+nc or nc>na+nb:\n",
    "    print(\"YES\")\n",
    "else:\n",
    "    print(\"NO\")"
   ]
  },
  {
   "cell_type": "markdown",
   "id": "b2527455",
   "metadata": {},
   "source": [
    "## Exercise 8\n",
    "\n",
    "Ronaldo is watching a football match. The current score is A:B, that is, team 1 has scored A goals and team 2 has scored B goals. Ronaldo wonders if it is possible for the score to become C:D at a later point in the game (i.e. team 1 has scored C goals and team 2 has scored D goals). Can you help Chef by answering his question?\n",
    "\n",
    "***Input Format:***\n",
    "\n",
    "- The first line contains two integers A and B - the intial number of goals team 1 and team 2 have scored respectively.\n",
    "- The second line contains two integers C and D - the final number of goals team 1 and team 2 must be able to score respectively.\n",
    "\n",
    "**Sample I/O**  \n",
    "\n",
    "***Input1:***  \n",
    "1 5  \n",
    "3 5  \n",
    "***Output1:***  \n",
    "POSSIBLE    \n",
    "\n",
    "***Input2:***  \n",
    "3 4  \n",
    "2 6  \n",
    "***Output2:***  \n",
    "IMPOSSIBLE  \n",
    "\n",
    "***Input3:***  \n",
    "2 2  \n",
    "2 2  \n",
    "***Output3:***  \n",
    "POSSIBLE  \n",
    "\n",
    "***Input4:***  \n",
    "4 5  \n",
    "4 4  \n",
    "***Output4:***  \n",
    "IMPOSSIBLE  "
   ]
  },
  {
   "cell_type": "code",
   "execution_count": 47,
   "id": "6fd65f25",
   "metadata": {},
   "outputs": [
    {
     "name": "stdout",
     "output_type": "stream",
     "text": [
      "4 5\n",
      "4 4\n",
      "IMPOSSIBLE\n"
     ]
    }
   ],
   "source": [
    "# Write your code here\n",
    "a,b=map(int,input().split())\n",
    "c,d=map(int,input().split())\n",
    "if a<=c and b<=d:\n",
    "    print(\"POSSIBLE\")\n",
    "else:\n",
    "     print(\"IMPOSSIBLE\")"
   ]
  },
  {
   "cell_type": "markdown",
   "id": "ed223ed3",
   "metadata": {},
   "source": [
    "## Exercise 9\n",
    "\n",
    "Ramanujan considers a trio of numbers X, Y and Z as **BEAUTIFUL TRIPLET** if there exists at least one number which is equal to the other two combined. \n",
    "\n",
    "Given X, Y and Z, figure out if it's a **BEAUTIFUL TRIPLET** or not.\n",
    "\n",
    "**Sample I/O**  \n",
    "\n",
    "***Input1:***  \n",
    "5 3 8  \n",
    "***Output1:***  \n",
    "BEAUTIFUL  \n",
    "\n",
    "***Input2:***  \n",
    "7 11 6  \n",
    "***Output2:***  \n",
    "NOT BEAUTIFUL  \n",
    "\n",
    "***Input3:***  \n",
    "13 9 4  \n",
    "***Output3:***  \n",
    "BEAUTIFUL  \n",
    "\n",
    "***Input4:***  \n",
    "11 22 34  \n",
    "***Output4:***  \n",
    "NOT BEAUTIFUL  "
   ]
  },
  {
   "cell_type": "code",
   "execution_count": 51,
   "id": "bfae86a7",
   "metadata": {},
   "outputs": [
    {
     "name": "stdout",
     "output_type": "stream",
     "text": [
      "11 22 34\n",
      "NOT BEAUTIFUL\n"
     ]
    }
   ],
   "source": [
    "# Write your code here\n",
    "x,y,z=map(int,input().split())\n",
    "if x==y+z or y==x+z or z==x+y:\n",
    "    print(\"BEAUTIFUL\")\n",
    "else:\n",
    "     print(\"NOT BEAUTIFUL\")"
   ]
  },
  {
   "cell_type": "markdown",
   "id": "de3d4132",
   "metadata": {},
   "source": [
    "## Exercise 10\n",
    "\n",
    "It's election day in WonderLand. You can only cast your vote if you fulfill both of the below conditions\n",
    "- You should be a citizen of WonderLand\n",
    "- Your age should be strictly greater than 18\n",
    "\n",
    "Given  \n",
    "X --> Indicates your WonderLand citizenship (1 if you are a citizen, 0 if you are not)  \n",
    "Y --> Your age  \n",
    "Find out if you can vote or not.\n",
    "\n",
    "**Sample I/O**  \n",
    "\n",
    "***Input1:***  \n",
    "0 26  \n",
    "***Output1:***  \n",
    "NO  \n",
    "\n",
    "***Input2:***  \n",
    "1 56  \n",
    "***Output2:***  \n",
    "YES  \n",
    "\n",
    "***Input3:***  \n",
    "1 18  \n",
    "***Output3:***  \n",
    "NO  \n",
    "\n",
    "***Input4:***  \n",
    "1 67    \n",
    "***Output4:***  \n",
    "YES  \n",
    "\n",
    "***Input5:***  \n",
    "0 12    \n",
    "***Output5:***  \n",
    "NO  \n"
   ]
  },
  {
   "cell_type": "code",
   "execution_count": 57,
   "id": "edb59606",
   "metadata": {},
   "outputs": [
    {
     "name": "stdout",
     "output_type": "stream",
     "text": [
      "0 12\n",
      "NO\n"
     ]
    }
   ],
   "source": [
    "# Write your code here\n",
    "x,y=map(int,input().split())\n",
    "if x==1 and y>18:\n",
    "    print(\"YES\")\n",
    "else:\n",
    "    print(\"NO\")"
   ]
  },
  {
   "cell_type": "markdown",
   "id": "9cd2578d",
   "metadata": {},
   "source": [
    "## Exercise 11\n",
    "\n",
    "Sourabh has reached the finals of the Annual Inter-school Declamation contest.\n",
    "\n",
    "For the finals, students were asked to prepare 10 topics. However, Sourabh was only able to prepare three topics, numbered A, B and C — he is totally blank about the other topics. This means Sourabh can only win the contest if he gets the topics A, B or C to speak about.\n",
    "\n",
    "On the contest day, Sourabh gets topic X. Determine whether Sourabh has any chances of winning the competition.\n",
    "\n",
    "Print YES if it is possible for Sourabh to win the contest, else print NO.\n",
    "\n",
    "***Input Format:*** Input contains A, B, C - topics Sourabh prepared and X - topic asked in contest.\n",
    "\n",
    "**Sample I/O**  \n",
    "\n",
    "***Input1:***  \n",
    "2 3 7 3  \n",
    "***Output1:***  \n",
    "YES  \n",
    "\n",
    "***Input2:***  \n",
    "4 6 8 5  \n",
    "***Output2:***  \n",
    "NO  \n",
    "\n",
    "***Input3:***  \n",
    "5 9 8 9  \n",
    "***Output3:***  \n",
    "YES  \n",
    "\n",
    "***Input4:***  \n",
    "1 3 9 7    \n",
    "***Output4:***  \n",
    "NO  "
   ]
  },
  {
   "cell_type": "code",
   "execution_count": 61,
   "id": "b910d97c",
   "metadata": {},
   "outputs": [
    {
     "name": "stdout",
     "output_type": "stream",
     "text": [
      "1 3 9 7\n",
      "NO\n"
     ]
    }
   ],
   "source": [
    "# Write your code here\n",
    "a,b,c,x=map(int,input().split())\n",
    "if a==x or b==x or c==x:\n",
    "    print(\"YES\")\n",
    "else:\n",
    "    print(\"NO\")"
   ]
  },
  {
   "cell_type": "markdown",
   "id": "4c7a811e",
   "metadata": {},
   "source": [
    "## Exercise 12\n",
    "\n",
    "Most programmers will tell you that one of the ways to improve your performance in competitive programming is to practice a lot of problems.\n",
    "\n",
    "Ben took the above advice very seriously and decided to set a target for himself.\n",
    "\n",
    "Ben decides to solve at least 10 problems every week for 4 weeks and took an oath to do that.\n",
    "\n",
    "Given the number of problems he actually solved in each week over 4 weeks as $P_1$, $P_2$, $P_3$, $P_4$, determine if he fulfilled his oath or not.\n",
    "\n",
    "**Sample I/O**  \n",
    "\n",
    "***Input1:***  \n",
    "11 14 12 10  \n",
    "***Output1:***  \n",
    "YES  \n",
    "\n",
    "***Input2:***  \n",
    "12 15 8 10  \n",
    "***Output2:***  \n",
    "NO  \n",
    "\n",
    "***Input3:***  \n",
    "12 100 99 11  \n",
    "***Output3:***  \n",
    "YES  \n",
    "\n",
    "***Input4:***  \n",
    "2 3 4 5    \n",
    "***Output4:***  \n",
    "NO  \n"
   ]
  },
  {
   "cell_type": "code",
   "execution_count": 65,
   "id": "a4fb2534",
   "metadata": {},
   "outputs": [
    {
     "name": "stdout",
     "output_type": "stream",
     "text": [
      "2 3 4 5\n",
      "NO\n"
     ]
    }
   ],
   "source": [
    "# Write your code here\n",
    "a,b,c,d=map(int,input().split())\n",
    "if a>=10 and b>=10 and c>=10 and d>=10:\n",
    "    print(\"YES\")\n",
    "else:\n",
    "    print(\"NO\")"
   ]
  }
 ],
 "metadata": {
  "kernelspec": {
   "display_name": "Python 3 (ipykernel)",
   "language": "python",
   "name": "python3"
  },
  "language_info": {
   "codemirror_mode": {
    "name": "ipython",
    "version": 3
   },
   "file_extension": ".py",
   "mimetype": "text/x-python",
   "name": "python",
   "nbconvert_exporter": "python",
   "pygments_lexer": "ipython3",
   "version": "3.9.13"
  },
  "latex_envs": {
   "LaTeX_envs_menu_present": true,
   "autoclose": false,
   "autocomplete": true,
   "bibliofile": "biblio.bib",
   "cite_by": "apalike",
   "current_citInitial": 1,
   "eqLabelWithNumbers": true,
   "eqNumInitial": 1,
   "hotkeys": {
    "equation": "Ctrl-E",
    "itemize": "Ctrl-I"
   },
   "labels_anchors": false,
   "latex_user_defs": false,
   "report_style_numbering": false,
   "user_envs_cfg": false
  },
  "toc": {
   "base_numbering": 1,
   "nav_menu": {},
   "number_sections": true,
   "sideBar": true,
   "skip_h1_title": false,
   "title_cell": "Table of Contents",
   "title_sidebar": "Contents",
   "toc_cell": false,
   "toc_position": {},
   "toc_section_display": true,
   "toc_window_display": false
  }
 },
 "nbformat": 4,
 "nbformat_minor": 5
}
