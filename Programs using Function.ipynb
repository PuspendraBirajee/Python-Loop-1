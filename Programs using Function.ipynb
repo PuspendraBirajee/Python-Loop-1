{
 "cells": [
  {
   "cell_type": "markdown",
   "id": "f6b77e04",
   "metadata": {},
   "source": [
    "#1st way\n",
    "#1.Create a function that takes two integers, and returns \n",
    "#True if factor count of integer1 is greater than that of integer2 else False\n",
    "def fac(a,b):\n",
    "    c=0\n",
    "    c1=0\n",
    "    for i in range(1,a+1):\n",
    "        if a%i==0:\n",
    "            c=c+1\n",
    "    for j in range(1,b+1):\n",
    "        if b%j==0:\n",
    "            c1=c1+1\n",
    "    if c>c1:\n",
    "        return True\n",
    "    else:\n",
    "        return False\n",
    "a,b=map(int,input().split())\n",
    "res=fac(a,b)\n",
    "print(res)"
   ]
  },
  {
   "cell_type": "code",
   "execution_count": 5,
   "id": "8676f0d6",
   "metadata": {},
   "outputs": [
    {
     "name": "stdout",
     "output_type": "stream",
     "text": [
      "12 5\n",
      "True\n"
     ]
    }
   ],
   "source": [
    "# 2nd way\n",
    "#1.Create a function that takes two integers, and returns \n",
    "# True if factor count of integer1 is greater than that of integer2 else False\n",
    "def fac(a,b):\n",
    "    c=0\n",
    "    c1=0\n",
    "    for i in range(1,a+1):\n",
    "        if a%i==0:\n",
    "            c=c+1\n",
    "    for j in range(1,b+1):\n",
    "        if b%j==0:\n",
    "            c1=c1+1\n",
    "    return c>c1\n",
    "a,b=map(int,input().split())\n",
    "res=fac(a,b)\n",
    "print(res)"
   ]
  },
  {
   "cell_type": "code",
   "execution_count": 7,
   "id": "38ed43bf",
   "metadata": {},
   "outputs": [
    {
     "name": "stdout",
     "output_type": "stream",
     "text": [
      "5 12\n",
      "False\n"
     ]
    }
   ],
   "source": [
    "# 3rd and the Best way\n",
    "#1.Create a function that takes two integers, and returns \n",
    "# True if factor count of integer1 is greater than that of integer2 else False\n",
    "def fac_count(n):\n",
    "    count=0\n",
    "    for i in range(1,n+1):\n",
    "        if n%i==0:\n",
    "            count+=1\n",
    "    return count\n",
    "def fac(a,b):\n",
    "    return fac_count(a)>fac_count(b)\n",
    "a,b=map(int,input().split())\n",
    "res=fac(a,b)\n",
    "print(res)"
   ]
  },
  {
   "cell_type": "code",
   "execution_count": 2,
   "id": "6182f80f",
   "metadata": {},
   "outputs": [
    {
     "name": "stdout",
     "output_type": "stream",
     "text": [
      "101 103 107 109 113 127 131 137 139 149 151 157 163 167 173 179 181 191 193 197 199 10\n",
      "False\n"
     ]
    }
   ],
   "source": [
    "#2.Prime in range\n",
    "def prime(n):\n",
    "    i=1\n",
    "    c=0\n",
    "    for i in range(i,n+1):\n",
    "        if n%i==0:\n",
    "            c=c+1\n",
    "    if c==2:\n",
    "        return True\n",
    "    else:\n",
    "        return False\n",
    "for i in range(100,200):\n",
    "    if prime(i)==True:\n",
    "        print(i,end=' ')\n",
    "n=int(input())\n",
    "res=prime(n)\n",
    "print(res)"
   ]
  },
  {
   "cell_type": "code",
   "execution_count": 3,
   "id": "d234da24",
   "metadata": {},
   "outputs": [
    {
     "name": "stdout",
     "output_type": "stream",
     "text": [
      "19\n",
      "Prime\n"
     ]
    }
   ],
   "source": [
    "\n",
    "# Find prime or composite\n",
    "n=int(input())\n",
    "s=(int(n**0.5))\n",
    "i=2\n",
    "c=0\n",
    "for i in range(i,s+1):\n",
    "    if n % i == 0:\n",
    "        c=1\n",
    "        break\n",
    "if c==0:\n",
    "    print(\"Prime\")\n",
    "else:\n",
    "    print(\"Composite\")"
   ]
  },
  {
   "cell_type": "code",
   "execution_count": 11,
   "id": "a4860092",
   "metadata": {},
   "outputs": [
    {
     "name": "stdout",
     "output_type": "stream",
     "text": [
      "False\n",
      "True\n"
     ]
    }
   ],
   "source": [
    "#Return True if unicode value of first variable is greater than that of second\n",
    "def fun(ch1, ch2):\n",
    "    return ord(ch1) > ord(ch2)\n",
    "print(fun(' ','z')) # 32 > 132 False\n",
    "print(fun('z','Z')) #122 > 90 True"
   ]
  },
  {
   "cell_type": "code",
   "execution_count": null,
   "id": "216e8f48",
   "metadata": {},
   "outputs": [],
   "source": []
  }
 ],
 "metadata": {
  "kernelspec": {
   "display_name": "Python 3 (ipykernel)",
   "language": "python",
   "name": "python3"
  },
  "language_info": {
   "codemirror_mode": {
    "name": "ipython",
    "version": 3
   },
   "file_extension": ".py",
   "mimetype": "text/x-python",
   "name": "python",
   "nbconvert_exporter": "python",
   "pygments_lexer": "ipython3",
   "version": "3.9.13"
  },
  "widgets": {
   "application/vnd.jupyter.widget-state+json": {
    "state": {},
    "version_major": 2,
    "version_minor": 0
   }
  }
 },
 "nbformat": 4,
 "nbformat_minor": 5
}
