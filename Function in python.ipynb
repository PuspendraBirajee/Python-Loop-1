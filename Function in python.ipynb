{
 "cells": [
  {
   "cell_type": "markdown",
   "id": "f0aa277c",
   "metadata": {},
   "source": [
    "# Syntax of creating a function in python\n",
    "def function_name(parameters)\n"
   ]
  },
  {
   "cell_type": "code",
   "execution_count": 8,
   "id": "9d91b060",
   "metadata": {},
   "outputs": [
    {
     "name": "stdout",
     "output_type": "stream",
     "text": [
      "100\n",
      "A\n"
     ]
    }
   ],
   "source": [
    "# Print Grades\n",
    "a=float(input())\n",
    "if a>90:\n",
    "    print(\"A\")\n",
    "elif a>80 and a<90:\n",
    "    print(\"B\")\n",
    "elif a>70 and a<80:\n",
    "    print(\"C\")\n",
    "elif a>60 and a<70:\n",
    "    print(\"D\")\n",
    "else:\n",
    "    print(\"E\")\n",
    "    "
   ]
  },
  {
   "cell_type": "code",
   "execution_count": 4,
   "id": "b4ba4f66",
   "metadata": {},
   "outputs": [
    {
     "name": "stdout",
     "output_type": "stream",
     "text": [
      "C\n",
      "A\n",
      "D\n"
     ]
    }
   ],
   "source": [
    "# Print grade using function\n",
    "def set_grade(a):   # Function definition\n",
    "    if a>90:\n",
    "        print(\"A\")\n",
    "    elif a > 80:\n",
    "        print(\"B\")\n",
    "    elif a > 70:\n",
    "        print(\"C\")\n",
    "    elif a > 60:\n",
    "        print(\"D\")\n",
    "    else:\n",
    "        print(\"E\")\n",
    "a=76.5   # main function\n",
    "a2=90.87\n",
    "a3=65.56\n",
    "set_grade(a) # calling function\n",
    "set_grade(a2)\n",
    "set_grade(a3)"
   ]
  },
  {
   "cell_type": "code",
   "execution_count": 5,
   "id": "77af8b02",
   "metadata": {},
   "outputs": [
    {
     "name": "stdout",
     "output_type": "stream",
     "text": [
      "24\n"
     ]
    }
   ],
   "source": [
    "# write a function which takes 4 inputs and gives its product\n",
    "def product(a,b,c,d):\n",
    "    # function body\n",
    "    print(a * b * c * d)\n",
    "    \n",
    "#function call\n",
    "product(1,2,3,4)"
   ]
  },
  {
   "cell_type": "code",
   "execution_count": 8,
   "id": "1ec2ceb3",
   "metadata": {},
   "outputs": [
    {
     "name": "stdout",
     "output_type": "stream",
     "text": [
      "1 2 3 5\n",
      "30\n"
     ]
    }
   ],
   "source": [
    "# write a function which takes 4 inputs and gives its product\n",
    "def product(a,b,c,d):\n",
    "    # function body\n",
    "    print(a * b * c * d)\n",
    "\n",
    "a,b,c,d=map(int,input().split())\n",
    "#function call\n",
    "product(a,b,c,d)"
   ]
  },
  {
   "cell_type": "code",
   "execution_count": 9,
   "id": "5ab110d3",
   "metadata": {},
   "outputs": [
    {
     "name": "stdout",
     "output_type": "stream",
     "text": [
      "30\n"
     ]
    }
   ],
   "source": [
    "def add(a,b): # a=10, b=20\n",
    "    return a+b # 10+20=30\n",
    "res=add(10,20) # fun call ## it returns only 30 so, store its value in another variable say res i.e res=add(10,20)=30\n",
    "print(res)"
   ]
  },
  {
   "cell_type": "code",
   "execution_count": 10,
   "id": "84e3c13e",
   "metadata": {},
   "outputs": [
    {
     "name": "stdout",
     "output_type": "stream",
     "text": [
      "10 30\n",
      "40\n"
     ]
    }
   ],
   "source": [
    "def add(a,b):\n",
    "    sum=a+b\n",
    "    return sum\n",
    "a,b=map(int,input().split())\n",
    "res=add(a,b)\n",
    "print(res)"
   ]
  },
  {
   "cell_type": "code",
   "execution_count": null,
   "id": "84778c42",
   "metadata": {},
   "outputs": [],
   "source": []
  }
 ],
 "metadata": {
  "kernelspec": {
   "display_name": "Python 3 (ipykernel)",
   "language": "python",
   "name": "python3"
  },
  "language_info": {
   "codemirror_mode": {
    "name": "ipython",
    "version": 3
   },
   "file_extension": ".py",
   "mimetype": "text/x-python",
   "name": "python",
   "nbconvert_exporter": "python",
   "pygments_lexer": "ipython3",
   "version": "3.9.13"
  }
 },
 "nbformat": 4,
 "nbformat_minor": 5
}
