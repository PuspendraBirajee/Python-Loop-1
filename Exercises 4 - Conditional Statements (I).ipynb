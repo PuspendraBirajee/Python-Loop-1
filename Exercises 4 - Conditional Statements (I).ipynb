{
 "cells": [
  {
   "cell_type": "markdown",
   "id": "a6ae83f1",
   "metadata": {},
   "source": [
    "# Programs on Conditional Statements"
   ]
  },
  {
   "cell_type": "markdown",
   "id": "d3bfbdde",
   "metadata": {},
   "source": [
    "## Exercise 1\n",
    "\n",
    "**Find out the given positive integer is *EVEN* or *ODD***  \n",
    "\n",
    "**Sample I/O**  \n",
    "\n",
    "***Input1:***  \n",
    "147  \n",
    "***Output1:***  \n",
    "147 is an ODD number\n",
    "\n",
    "***Input2:***  \n",
    "3456  \n",
    "***Output2:***  \n",
    "3456 is an EVEN number  \n",
    "\n",
    "***Input3:***  \n",
    "12  \n",
    "***Output3:***  \n",
    "12 is an EVEN number  \n",
    "\n",
    "***Input4:***  \n",
    "123457  \n",
    "***Output4:***  \n",
    "123457 is an ODD number"
   ]
  },
  {
   "cell_type": "code",
   "execution_count": 7,
   "id": "2d47b516",
   "metadata": {},
   "outputs": [
    {
     "name": "stdout",
     "output_type": "stream",
     "text": [
      "123457\n",
      "odd\n"
     ]
    }
   ],
   "source": [
    "# Write your code\n",
    "p=int(input())\n",
    "print(\"even\") if p%2==0 else print(\"odd\")\n"
   ]
  },
  {
   "cell_type": "markdown",
   "id": "d0abd3f5",
   "metadata": {},
   "source": [
    "## Exercise 2\n",
    "\n",
    "Find out the ***largest of the given two distinct integers.***\n",
    "\n",
    "**Sample I/O**  \n",
    "\n",
    "***Input1:***  \n",
    "-14  \n",
    "143  \n",
    "***Output1:***  \n",
    "143  \n",
    "\n",
    "***Input2:***  \n",
    "-11  \n",
    "-1234  \n",
    "***Output2:***  \n",
    "-11  \n",
    "\n",
    "***Input3:***  \n",
    "1234  \n",
    "1243  \n",
    "***Output3:***  \n",
    "1243  \n",
    "\n",
    "***Input4:***  \n",
    "123456  \n",
    "123564  \n",
    "***Output4:***  \n",
    "123564"
   ]
  },
  {
   "cell_type": "code",
   "execution_count": 15,
   "id": "6f794811",
   "metadata": {},
   "outputs": [
    {
     "name": "stdout",
     "output_type": "stream",
     "text": [
      "123456 1234564\n",
      "1234564\n"
     ]
    }
   ],
   "source": [
    "# Write your code here\n",
    "a,b=map(int,input().split())\n",
    "if a>b:\n",
    "    print(a)\n",
    "else:\n",
    "    print(b)\n"
   ]
  },
  {
   "cell_type": "markdown",
   "id": "addb9f9a",
   "metadata": {},
   "source": [
    "### Exercise 3\n",
    "\n",
    "Mr. Snowman considers the climate **HOT** if the temperature is above 20, otherwise he considers it **COLD**. You are given the temperature C, ***find whether the climate is HOT or COLD.***\n",
    "\n",
    "**Sample I/O**  \n",
    "\n",
    "***Input1:***  \n",
    "41  \n",
    "***Output1:***  \n",
    "HOT  \n",
    "\n",
    "***Input2:***  \n",
    "14  \n",
    "***Output2:***  \n",
    "COLD\n",
    "\n",
    "***Input3:***  \n",
    "20  \n",
    "***Output3:***  \n",
    "COLD  \n",
    "\n",
    "***Input4:***  \n",
    "100  \n",
    "***Output4:***  \n",
    "HOT"
   ]
  },
  {
   "cell_type": "code",
   "execution_count": 19,
   "id": "bbfdedbd",
   "metadata": {},
   "outputs": [
    {
     "name": "stdout",
     "output_type": "stream",
     "text": [
      "100\n",
      "HOT\n"
     ]
    }
   ],
   "source": [
    "# Write your code here\n",
    "t=int(input())\n",
    "if t>20:\n",
    "    print(\"HOT\")\n",
    "else:\n",
    "    print(\"COLD\")"
   ]
  },
  {
   "cell_type": "markdown",
   "id": "0edeb7c3",
   "metadata": {},
   "source": [
    "## Exercise 4\n",
    "\n",
    "Fatboy is fond of burgers and decided to make as many burgers as possible.\n",
    "\n",
    "Fatboy has A patties and B buns. **To make 1 burger, Fatboy needs 1 patty and 1 bun.**  \n",
    "Find the maximum number of burgers that Fatboy can make.\n",
    "\n",
    "**Sample I/O**  \n",
    "\n",
    "***Input1:***  \n",
    "3<br>\n",
    "2<br>\n",
    "***Output1:***  \n",
    "2<br>  \n",
    "\n",
    "***Input2:***  \n",
    "23  \n",
    "17  \n",
    "***Output2:***  \n",
    "17\n",
    "\n",
    "***Input3:***  \n",
    "100  \n",
    "200  \n",
    "***Output3:***  \n",
    "100  \n",
    "\n",
    "***Input4:***  \n",
    "1726  \n",
    "1723  \n",
    "***Output4:***  \n",
    "1723"
   ]
  },
  {
   "cell_type": "code",
   "execution_count": 1,
   "id": "f186e352",
   "metadata": {},
   "outputs": [
    {
     "name": "stdout",
     "output_type": "stream",
     "text": [
      "1723\n",
      "1726\n",
      "1723\n"
     ]
    }
   ],
   "source": [
    "# Write your code here\n",
    "a=int(input())\n",
    "b=int(input())\n",
    "if a<b:\n",
    "    print(a)\n",
    "else:\n",
    "    print(b)"
   ]
  },
  {
   "cell_type": "markdown",
   "id": "2791b281",
   "metadata": {},
   "source": [
    "## Exercise 5\n",
    "\n",
    "Jack Sparrow's son wants to go on a roller coaster ride. The height of Jack Sparrow's son is X inches while the **minimum** height required to go on the ride is H inches. Determine whether he can go on the ride or not.  \n",
    "\n",
    "**Sample I/O**  \n",
    "\n",
    "***Input1:***  \n",
    "15  \n",
    "20  \n",
    "***Output1:***  \n",
    "NO    \n",
    "\n",
    "***Input2:***  \n",
    "50  \n",
    "48  \n",
    "***Output2:***  \n",
    "YES  \n",
    "\n",
    "***Input3:***  \n",
    "32  \n",
    "32  \n",
    "***Output3:***  \n",
    "YES  \n",
    "\n",
    "***Input4:***  \n",
    "38  \n",
    "39  \n",
    "***Output4:***  \n",
    "NO  "
   ]
  },
  {
   "cell_type": "code",
   "execution_count": 4,
   "id": "a1d12284",
   "metadata": {},
   "outputs": [
    {
     "name": "stdout",
     "output_type": "stream",
     "text": [
      "38\n",
      "39\n",
      "NO\n"
     ]
    }
   ],
   "source": [
    "# Write your code here\n",
    "X=int(input())\n",
    "H=int(input())\n",
    "if X>=H:\n",
    "    print(\"YES\")\n",
    "else:\n",
    "    print(\"NO\")\n",
    "    "
   ]
  },
  {
   "cell_type": "markdown",
   "id": "e12ebe3f",
   "metadata": {},
   "source": [
    "## Exercise 6\n",
    "\n",
    "Jack and his girlfriend go on a date. Jack took X dollars with him, and was quite sure that this would be enough to pay the bill. At the end, the waiter brought a bill of Y dollars.  \n",
    "Print YES if Jack has enough money to pay the bill, or NO if he has to borrow from his girlfriend and leave a bad impression on her.\n",
    "\n",
    "**Sample I/O**  \n",
    "\n",
    "***Input1:***  \n",
    "20  \n",
    "20  \n",
    "***Output1:***  \n",
    "YES    \n",
    "\n",
    "***Input2:***  \n",
    "10  \n",
    "20  \n",
    "***Output2:***  \n",
    "NO  \n",
    "\n",
    "***Input3:***  \n",
    "20  \n",
    "10  \n",
    "***Output3:***  \n",
    "YES  \n",
    "\n",
    "***Input4:***  \n",
    "50  \n",
    "100  \n",
    "***Output4:***  \n",
    "NO  "
   ]
  },
  {
   "cell_type": "code",
   "execution_count": 8,
   "id": "c4fc565f",
   "metadata": {},
   "outputs": [
    {
     "name": "stdout",
     "output_type": "stream",
     "text": [
      "50\n",
      "100\n",
      "NO\n"
     ]
    }
   ],
   "source": [
    "# Write your code here\n",
    "a=int(input())\n",
    "b=int(input())\n",
    "if a>=b:\n",
    "    print(\"YES\")\n",
    "else:\n",
    "    print(\"NO\")"
   ]
  },
  {
   "cell_type": "markdown",
   "id": "b9318c73",
   "metadata": {},
   "source": [
    "## Exercise 7\n",
    "\n",
    "Ashok wants to conduct a lecture for which he needs to set up an online meeting of exactly X minutes.  \n",
    "\n",
    "The meeting platform supports a meeting of maximum 30 minutes without subscription and a meeting of unlimited duration with subscription.  \n",
    "\n",
    "Determine whether Ashok needs to take a subscription or not for setting up the meet.\n",
    "\n",
    "**Sample I/O**  \n",
    "\n",
    "***Input1:***  \n",
    "50    \n",
    "***Output1:***  \n",
    "YES    \n",
    "\n",
    "***Input2:***  \n",
    "3<br>\n",
    "***Output2:***  \n",
    "NO  \n",
    "\n",
    "***Input3:***  \n",
    "30  \n",
    "***Output3:***  \n",
    "NO  \n",
    "\n",
    "***Input4:***  \n",
    "80   \n",
    "***Output4:***  \n",
    "YES  "
   ]
  },
  {
   "cell_type": "code",
   "execution_count": 12,
   "id": "ad9ca4d9",
   "metadata": {},
   "outputs": [
    {
     "name": "stdout",
     "output_type": "stream",
     "text": [
      "80\n",
      "YES\n"
     ]
    }
   ],
   "source": [
    "# Write your code here\n",
    "a=int(input())\n",
    "if a>30:\n",
    "    print(\"YES\")\n",
    "else:\n",
    "    print(\"NO\")"
   ]
  },
  {
   "cell_type": "markdown",
   "id": "419dd6b6",
   "metadata": {},
   "source": [
    "## Exercise 8\n",
    "\n",
    "Alice and Bob are very good friends and they always distribute all the eatables **equally** among themselves.\n",
    "\n",
    "Alice has A chocolates and Bob has B chocolates. Determine whether Alice and Bob can distribute all the chocolates equally among themselves.  \n",
    "\n",
    "Note that:  \n",
    "\n",
    "- It is not allowed to break a chocolate.\n",
    "- No chocolate shall be left in the distribution.\n",
    "\n",
    "**Sample I/O**  \n",
    "\n",
    "***Input1:***  \n",
    "10  \n",
    "10  \n",
    "***Output1:***  \n",
    "YES    \n",
    "\n",
    "***Input2:***  \n",
    "1<br>\n",
    "4<br>\n",
    "***Output2:***  \n",
    "NO  \n",
    "\n",
    "***Input3:***  \n",
    "11  \n",
    "22  \n",
    "***Output3:***  \n",
    "NO  \n",
    "\n",
    "***Input4:***  \n",
    "55  \n",
    "45    \n",
    "***Output4:***  \n",
    "YES  "
   ]
  },
  {
   "cell_type": "code",
   "execution_count": 16,
   "id": "b322bdb4",
   "metadata": {},
   "outputs": [
    {
     "name": "stdout",
     "output_type": "stream",
     "text": [
      "55\n",
      "45\n",
      "YES\n"
     ]
    }
   ],
   "source": [
    "# Write your code here\n",
    "a=int(input())\n",
    "b=int(input())\n",
    "if (a+b)%2==0:\n",
    "    print(\"YES\")\n",
    "else:\n",
    "    print(\"NO\")"
   ]
  },
  {
   "cell_type": "markdown",
   "id": "c358a228",
   "metadata": {},
   "source": [
    "## Exercise 9\n",
    "\n",
    "For the upcoming semester, the admins of THUB decided to keep a total of X seats for the DRIVEREADY course. Student interest survey was conducted by the admins and it was found that Y students were interested in taking up the DRIVEREADY course.\n",
    "\n",
    "Find the **minimum number of extra seats** that the admins need to add into the DRIVEREADY course to make sure that every student who is interested in taking the course would be able to do so.\n",
    "\n",
    "**Sample I/O**  \n",
    "\n",
    "***Input1:***  \n",
    "12  \n",
    "12  \n",
    "***Output1:***  \n",
    "0    \n",
    "\n",
    "***Input2:***  \n",
    "12  \n",
    "34  \n",
    "***Output2:***  \n",
    "22  \n",
    "\n",
    "***Input3:***  \n",
    "50  \n",
    "49  \n",
    "***Output3:***  \n",
    "0  \n",
    "\n",
    "***Input4:***  \n",
    "49  \n",
    "50    \n",
    "***Output4:***  \n",
    "1  "
   ]
  },
  {
   "cell_type": "code",
   "execution_count": 23,
   "id": "6fd65f25",
   "metadata": {},
   "outputs": [
    {
     "name": "stdout",
     "output_type": "stream",
     "text": [
      "49\n",
      "50\n",
      "1\n"
     ]
    }
   ],
   "source": [
    "# Write your code here\n",
    "a=int(input())\n",
    "b=int(input())\n",
    "if b>a:\n",
    "   print(b-a)\n",
    "else:\n",
    "    print(\"0\")"
   ]
  },
  {
   "cell_type": "markdown",
   "id": "ed223ed3",
   "metadata": {},
   "source": [
    "## Exercise 10\n",
    "\n",
    "Bob has X rupees and goes to a market. The cost of apples is Rs. A per kg and the cost of oranges is Rs. B per kg.\n",
    "\n",
    "Determine whether he can buy at least 1 kg each of apples and oranges.\n",
    "\n",
    "**Sample I/O**  \n",
    "\n",
    "***Input1:***  \n",
    "14  \n",
    "2<br>\n",
    "2<br>\n",
    "***Output1:***  \n",
    "YES  \n",
    "\n",
    "***Input2:***  \n",
    "5<br>\n",
    "5<br>\n",
    "4<br>\n",
    "***Output2:***  \n",
    "NO  \n",
    "\n",
    "***Input3:***  \n",
    "5<br>\n",
    "3<br>\n",
    "2<br>\n",
    "***Output3:***  \n",
    "YES  \n",
    "\n",
    "***Input4:***  \n",
    "10000  \n",
    "5000  \n",
    "6000  \n",
    "***Output4:***  \n",
    "NO  "
   ]
  },
  {
   "cell_type": "code",
   "execution_count": 31,
   "id": "bfae86a7",
   "metadata": {},
   "outputs": [
    {
     "name": "stdout",
     "output_type": "stream",
     "text": [
      "10000\n",
      "5000\n",
      "6000\n",
      "NO\n"
     ]
    }
   ],
   "source": [
    "# Write your code here\n",
    "x=int(input())\n",
    "a=int(input())\n",
    "b=int(input())\n",
    "if (a+b)<=x:\n",
    "    print(\"YES\")\n",
    "else:\n",
    "    print(\"NO\")"
   ]
  },
  {
   "cell_type": "markdown",
   "id": "de3d4132",
   "metadata": {},
   "source": [
    "## Exercise 11\n",
    "\n",
    "Rajesh wants to give a burger party to all his N friends i.e. he wants to buy **one burger** for each of his friends.  \n",
    "\n",
    "The cost of each burger is X rupees while Rajesh has a total of K rupees with him.  \n",
    "\n",
    "Determine whether he has enough money to buy a burger for each of his friends or not.\n",
    "\n",
    "**Sample I/O**  \n",
    "\n",
    "***Input1:***  \n",
    "5 10 70  \n",
    "***Output1:***  \n",
    "YES  \n",
    "\n",
    "***Input2:***  \n",
    "5 10 40  \n",
    "***Output2:***  \n",
    "NO  \n",
    "\n",
    "***Input3:***  \n",
    "10 40 400  \n",
    "***Output3:***  \n",
    "YES  \n",
    "\n",
    "***Input4:***  \n",
    "14 14 150    \n",
    "***Output4:***  \n",
    "NO  "
   ]
  },
  {
   "cell_type": "code",
   "execution_count": 35,
   "id": "244c3826",
   "metadata": {},
   "outputs": [
    {
     "name": "stdout",
     "output_type": "stream",
     "text": [
      "14 14 150\n",
      "NO\n"
     ]
    }
   ],
   "source": [
    "# Write your code here\n",
    "n,x,k=map(int,input().split())\n",
    "if (n*x)<=k:\n",
    "    print(\"YES\")\n",
    "else:\n",
    "    print(\"NO\")"
   ]
  },
  {
   "cell_type": "markdown",
   "id": "3f451ce1",
   "metadata": {},
   "source": [
    "## Exercise 12\n",
    "\n",
    "Alice is playing Air Hockey with Bob. **The first person to earn seven points wins the match**. Currently, Alice's score is A and Bob's score is B.\n",
    "\n",
    "Charlie is eagerly waiting for his turn. Help Charlie by calculating the minimum number of points that will be further scored in the match before it ends.\n",
    "\n",
    "**Sample I/O**  \n",
    "\n",
    "***Input1:***  \n",
    "0 0  \n",
    "***Output1:***  \n",
    "7  \n",
    "\n",
    "***Input2:***  \n",
    "2 5  \n",
    "***Output2:***  \n",
    "2  \n",
    "\n",
    "***Input3:***  \n",
    "1 3  \n",
    "***Output3:***  \n",
    "4  \n",
    "\n",
    "***Input4:***  \n",
    "4 3    \n",
    "***Output4:***  \n",
    "3  "
   ]
  },
  {
   "cell_type": "code",
   "execution_count": 39,
   "id": "edb59606",
   "metadata": {},
   "outputs": [
    {
     "name": "stdout",
     "output_type": "stream",
     "text": [
      "4 3\n",
      "3\n"
     ]
    }
   ],
   "source": [
    "# Write your code here\n",
    "a,b=map(int,input().split())\n",
    "if a>=b:\n",
    "    print(7-a)\n",
    "else:\n",
    "    print(7-b)"
   ]
  },
  {
   "cell_type": "markdown",
   "id": "5bbda874",
   "metadata": {},
   "source": [
    "## Exercise 13\n",
    "\n",
    "Stark decided to redecorate his house, and now needs to decide between two different styles of interior design.\n",
    "\n",
    "For the first style, tiling the floor will cost $X_1$ rupees and painting the walls will cost $Y_1$ rupees.  \n",
    "For the second style, tiling the floor will cost $X_2$ rupees and painting the walls will cost $Y_2$ rupees.  \n",
    "\n",
    "**Stark will choose whichever style has the lower total cost. How much will Stark pay for his interior design?**\n",
    "\n",
    "**Sample I/O**  \n",
    "\n",
    "***Input1:***  \n",
    "10 20 9 25  \n",
    "***Output1:***  \n",
    "30  \n",
    "\n",
    "***Input2:***  \n",
    "10 20 9 20  \n",
    "***Output2:***  \n",
    "29  \n",
    "\n",
    "***Input3:***  \n",
    "20 30 30 20  \n",
    "***Output3:***  \n",
    "50  \n",
    "\n",
    "***Input4:***  \n",
    "100 43 83 61  \n",
    "***Output4:***  \n",
    "143  "
   ]
  },
  {
   "cell_type": "code",
   "execution_count": 43,
   "id": "c2dadd7a",
   "metadata": {},
   "outputs": [
    {
     "name": "stdout",
     "output_type": "stream",
     "text": [
      "100 43 83 61\n",
      "143\n"
     ]
    }
   ],
   "source": [
    "# Write your code here\n",
    "x1,y1,x2,y2=map(int,input().split())\n",
    "a=x1+y1\n",
    "b=x2+y2\n",
    "if a<=b:\n",
    "    print(a)\n",
    "else:\n",
    "    print(b)"
   ]
  },
  {
   "cell_type": "markdown",
   "id": "1ebb09f1",
   "metadata": {},
   "source": [
    "## Exercise 14\n",
    "\n",
    "Six friends go on a trip and are looking for accommodation. After looking for hours, they find a hotel which offers two types of rooms — double rooms and triple rooms. A double room costs Rs. X, while a triple room costs Rs. Y.\n",
    "\n",
    "The friends can either get three double rooms or get two triple rooms. Find the minimum amount they will have to pay to accommodate all six of them.  \n",
    "\n",
    "**Sample I/O**  \n",
    "\n",
    "***Input1:***  \n",
    "10 15  \n",
    "***Output1:***  \n",
    "30  \n",
    "\n",
    "***Input2:***  \n",
    "6 8  \n",
    "***Output2:***  \n",
    "16  \n",
    "\n",
    "***Input3:***  \n",
    "4 8  \n",
    "***Output3:***  \n",
    "12  \n",
    "\n",
    "***Input4:***  \n",
    "9 13  \n",
    "***Output4:***  \n",
    "26  "
   ]
  },
  {
   "cell_type": "code",
   "execution_count": 3,
   "id": "1fd06672",
   "metadata": {},
   "outputs": [
    {
     "name": "stdout",
     "output_type": "stream",
     "text": [
      "9 13\n",
      "26\n"
     ]
    }
   ],
   "source": [
    "# Write your code here\n",
    "x,y=map(int,input().split())\n",
    "a=3*x\n",
    "b=2*y\n",
    "if a<=b:\n",
    "    print(a)\n",
    "else:\n",
    "    print(b)"
   ]
  },
  {
   "cell_type": "markdown",
   "id": "84b25084",
   "metadata": {},
   "source": [
    "## Exercise 15\n",
    "\n",
    "Wanda loves bread. She has N loaves of bread, all of which expire after exactly M days. She can eat upto K loaves of bread in a day. Can she eat all the loaves of bread before they expire?  \n",
    "\n",
    "**Sample I/O**  \n",
    "\n",
    "***Input1:***  \n",
    "100 100 1  \n",
    "***Output1:***  \n",
    "YES  \n",
    "\n",
    "***Input2:***  \n",
    "19 6 3  \n",
    "***Output2:***  \n",
    "NO  \n",
    "\n",
    "***Input3:***  \n",
    "9 2 5  \n",
    "***Output3:***  \n",
    "YES  \n",
    "\n",
    "***Input4:***  \n",
    "50 7 6  \n",
    "***Output4:***  \n",
    "NO  "
   ]
  },
  {
   "cell_type": "code",
   "execution_count": 7,
   "id": "063bbfb1",
   "metadata": {},
   "outputs": [
    {
     "name": "stdout",
     "output_type": "stream",
     "text": [
      "50 7 6\n",
      "NO\n"
     ]
    }
   ],
   "source": [
    "# Write your code here\n",
    "n,m,k=map(int,input().split())\n",
    "if (m*k)>=n:\n",
    "    print(\"YES\")\n",
    "else:\n",
    "    print(\"NO\")"
   ]
  }
 ],
 "metadata": {
  "kernelspec": {
   "display_name": "Python 3 (ipykernel)",
   "language": "python",
   "name": "python3"
  },
  "language_info": {
   "codemirror_mode": {
    "name": "ipython",
    "version": 3
   },
   "file_extension": ".py",
   "mimetype": "text/x-python",
   "name": "python",
   "nbconvert_exporter": "python",
   "pygments_lexer": "ipython3",
   "version": "3.9.13"
  },
  "latex_envs": {
   "LaTeX_envs_menu_present": true,
   "autoclose": false,
   "autocomplete": true,
   "bibliofile": "biblio.bib",
   "cite_by": "apalike",
   "current_citInitial": 1,
   "eqLabelWithNumbers": true,
   "eqNumInitial": 1,
   "hotkeys": {
    "equation": "Ctrl-E",
    "itemize": "Ctrl-I"
   },
   "labels_anchors": false,
   "latex_user_defs": false,
   "report_style_numbering": false,
   "user_envs_cfg": false
  },
  "toc": {
   "base_numbering": 1,
   "nav_menu": {},
   "number_sections": true,
   "sideBar": true,
   "skip_h1_title": false,
   "title_cell": "Table of Contents",
   "title_sidebar": "Contents",
   "toc_cell": false,
   "toc_position": {},
   "toc_section_display": true,
   "toc_window_display": false
  }
 },
 "nbformat": 4,
 "nbformat_minor": 5
}
