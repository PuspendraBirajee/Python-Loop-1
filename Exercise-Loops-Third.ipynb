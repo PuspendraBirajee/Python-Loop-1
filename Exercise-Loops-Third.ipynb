{
 "cells": [
  {
   "cell_type": "markdown",
   "id": "a6ae83f1",
   "metadata": {},
   "source": [
    "# Programs on Loops (III) -  Using Conditionals in Loops"
   ]
  },
  {
   "cell_type": "markdown",
   "id": "d3bfbdde",
   "metadata": {},
   "source": [
    "## Exercise 1\n",
    "\n",
    "**Given two numbers A and B. Print all the EVEN NUMBERS from A to B (Inclusive)**\n",
    "\n",
    "- It's guaranteed that $ A \\leq B $\n",
    "\n",
    "**Sample I/O**  \n",
    "\n",
    "***Input1:***  \n",
    "2 10  \n",
    "***Output1:***  \n",
    "2 4 6 8 10  \n",
    "\n",
    "***Input2:***  \n",
    "12 19  \n",
    "***Output2:***  \n",
    "12 14 16 18  \n",
    "\n",
    "***Input3:***  \n",
    "101 201  \n",
    "***Output3:***  \n",
    "102 104 106 108 110 112 114 116 118 120 122 124 126 128 130 132 134 136 138 140 142 144 146 148 150 152 154 156 158 160 162 164 166 168 170 172 174 176 178 180 182 184 186 188 190 192 194 196 198 200  \n",
    "\n",
    "***Input4:***  \n",
    "2795 2840  \n",
    "***Output4:***  \n",
    "2796 2798 2800 2802 2804 2806 2808 2810 2812 2814 2816 2818 2820 2822 2824 2826 2828 2830 2832 2834 2836 2838 2840  "
   ]
  },
  {
   "cell_type": "code",
   "execution_count": 3,
   "id": "20e100d0",
   "metadata": {},
   "outputs": [
    {
     "name": "stdout",
     "output_type": "stream",
     "text": [
      "101 201\n",
      "102 104 106 108 110 112 114 116 118 120 122 124 126 128 130 132 134 136 138 140 142 144 146 148 150 152 154 156 158 160 162 164 166 168 170 172 174 176 178 180 182 184 186 188 190 192 194 196 198 200 "
     ]
    }
   ],
   "source": [
    "# Write your code here using while loop\n",
    "a,b=map(int,input().split())\n",
    "while a<=b:\n",
    "    if a%2==0:\n",
    "        print(a,end=' ')\n",
    "    a=a+1"
   ]
  },
  {
   "cell_type": "code",
   "execution_count": 8,
   "id": "f9643796",
   "metadata": {},
   "outputs": [
    {
     "name": "stdout",
     "output_type": "stream",
     "text": [
      "2795 2840\n",
      "2796 2798 2800 2802 2804 2806 2808 2810 2812 2814 2816 2818 2820 2822 2824 2826 2828 2830 2832 2834 2836 2838 2840 "
     ]
    }
   ],
   "source": [
    "# Write your code here using for loop\n",
    "a,b=map(int,input().split())\n",
    "for a in range(a,b+1):\n",
    "    if a%2==0:\n",
    "         print(a,end=' ')"
   ]
  },
  {
   "cell_type": "markdown",
   "id": "d0abd3f5",
   "metadata": {},
   "source": [
    "## Exercise 2\n",
    "\n",
    "**Given two numbers A and B. Print all the ODD NUMBERS from B to A (Inclusive)**\n",
    "\n",
    "- It's guaranteed that $ B \\geq A $\n",
    "\n",
    "**Sample I/O**  \n",
    "\n",
    "***Input1:***  \n",
    "2 10  \n",
    "***Output1:***  \n",
    "9 7 5 3  \n",
    "\n",
    "***Input2:***  \n",
    "12 19  \n",
    "***Output2:***  \n",
    "19 17 15 13  \n",
    "\n",
    "***Input3:***  \n",
    "101 201  \n",
    "***Output3:***  \n",
    "201 199 197 195 193 191 189 187 185 183 181 179 177 175 173 171 169 167 165 163 161 159 157 155 153 151 149 147 145 143 141 139 137 135 133 131 129 127 125 123 121 119 117 115 113 111 109 107 105 103 101  \n",
    "\n",
    "***Input4:***  \n",
    "2795 2840  \n",
    "***Output4:***  \n",
    "2839 2837 2835 2833 2831 2829 2827 2825 2823 2821 2819 2817 2815 2813 2811 2809 2807 2805 2803 2801 2799 2797 2795  "
   ]
  },
  {
   "cell_type": "code",
   "execution_count": 23,
   "id": "6f794811",
   "metadata": {},
   "outputs": [
    {
     "name": "stdout",
     "output_type": "stream",
     "text": [
      "2795 2840\n",
      "2839 2837 2835 2833 2831 2829 2827 2825 2823 2821 2819 2817 2815 2813 2811 2809 2807 2805 2803 2801 2799 2797 2795 "
     ]
    }
   ],
   "source": [
    "# Write your code here using while loop\n",
    "a,b=map(int,input().split())\n",
    "while b>=a:\n",
    "    if b%2!=0:\n",
    "        print(b,end=' ')\n",
    "    b=b-1"
   ]
  },
  {
   "cell_type": "code",
   "execution_count": 32,
   "id": "80c11e6e",
   "metadata": {},
   "outputs": [
    {
     "name": "stdout",
     "output_type": "stream",
     "text": [
      "2795 2840\n",
      "2839 2837 2835 2833 2831 2829 2827 2825 2823 2821 2819 2817 2815 2813 2811 2809 2807 2805 2803 2801 2799 2797 2795 "
     ]
    }
   ],
   "source": [
    "# Write your code here using for loop\n",
    "a,b=map(int,input().split())\n",
    "for b in range(b,a-1,-1):\n",
    "    if b%2!=0:\n",
    "        print(b,end=' ')"
   ]
  },
  {
   "cell_type": "markdown",
   "id": "58a3317d",
   "metadata": {},
   "source": [
    "## Definition of factor\n",
    "\n",
    "A number F can be called as factor of another number N, if the division operation on N with F yields 0 (Zero) as remainder.\n",
    "\n",
    "In other words **F** can be called as a factor (divisor) of **N**, if **N % F is equal to 0**.\n",
    "\n",
    "**Examples:**\n",
    "- 3 is a factor of 12, because 12 % 3 is 0\n",
    "- 17 is a factor of 68, becuase 68 % 17 is 0\n",
    "- 5 is **NOT** a factor of 12, as 12 % 5 is not equal to 0"
   ]
  },
  {
   "cell_type": "markdown",
   "id": "addb9f9a",
   "metadata": {},
   "source": [
    "## Exercise 3\n",
    "\n",
    "**Given a number N. Print all the factors (divisors) of that number**.\n",
    "\n",
    "\n",
    "**Sample I/O**  \n",
    "\n",
    "***Input1:***  \n",
    "5<br>\n",
    "***Output1:***  \n",
    "1 5  \n",
    "\n",
    "***Input2:***  \n",
    "10  \n",
    "***Output2:***  \n",
    "1 2 5 10  \n",
    "\n",
    "***Input3:***  \n",
    "20  \n",
    "***Output3:***  \n",
    "1 2 4 5 10 20  \n",
    "\n",
    "***Input4:***  \n",
    "120  \n",
    "***Output4:***  \n",
    "1 2 3 4 5 6 8 10 12 15 20 24 30 40 60 120  "
   ]
  },
  {
   "cell_type": "code",
   "execution_count": 36,
   "id": "1de7c542",
   "metadata": {},
   "outputs": [
    {
     "name": "stdout",
     "output_type": "stream",
     "text": [
      "120\n",
      "1 2 3 4 5 6 8 10 12 15 20 24 30 40 60 120 "
     ]
    }
   ],
   "source": [
    "# Write your code here using while loop\n",
    "a=int(input())\n",
    "i=1\n",
    "while i<=a:\n",
    "    if a%i==0:\n",
    "        print(i,end=' ')\n",
    "    i=i+1"
   ]
  },
  {
   "cell_type": "code",
   "execution_count": 38,
   "id": "9fc6aebf",
   "metadata": {},
   "outputs": [
    {
     "name": "stdout",
     "output_type": "stream",
     "text": [
      "20\n",
      "1 2 4 5 10 20 "
     ]
    }
   ],
   "source": [
    "# Write your code here using for loop\n",
    "a=int(input())\n",
    "i=1\n",
    "for i in range(i,a+1):\n",
    "    if a%i==0:\n",
    "        print(i,end=' ')"
   ]
  },
  {
   "cell_type": "markdown",
   "id": "0edeb7c3",
   "metadata": {},
   "source": [
    "## Exercise 4\n",
    "\n",
    "**Given a number N. Find out how many total factors (divisors) does that number has.**\n",
    "\n",
    "\n",
    "**Sample I/O**  \n",
    "\n",
    "***Input1:***  \n",
    "5<br>\n",
    "***Output1:***  \n",
    "2  \n",
    "\n",
    "***Input2:***  \n",
    "10  \n",
    "***Output2:***  \n",
    "4  \n",
    "\n",
    "***Input3:***  \n",
    "20  \n",
    "***Output3:***  \n",
    "6  \n",
    "\n",
    "***Input4:***  \n",
    "120  \n",
    "***Output4:***  \n",
    "16  "
   ]
  },
  {
   "cell_type": "code",
   "execution_count": 39,
   "id": "c33c7d73",
   "metadata": {},
   "outputs": [
    {
     "name": "stdout",
     "output_type": "stream",
     "text": [
      "120\n",
      "16\n"
     ]
    }
   ],
   "source": [
    "# Write your code here using while loop\n",
    "a=int(input())\n",
    "i=1\n",
    "c=0\n",
    "while i<=a:\n",
    "    if a%i==0:\n",
    "        c=c+1\n",
    "    i=i+1\n",
    "print(c)"
   ]
  },
  {
   "cell_type": "code",
   "execution_count": 40,
   "id": "fe09666b",
   "metadata": {},
   "outputs": [
    {
     "name": "stdout",
     "output_type": "stream",
     "text": [
      "20\n",
      "6\n"
     ]
    }
   ],
   "source": [
    "# Write your code here using for loop\n",
    "a=int(input())\n",
    "i=1\n",
    "c=0\n",
    "for i in range(i,a+1):\n",
    "    if a%i==0:\n",
    "        c=c+1\n",
    "print(c)"
   ]
  },
  {
   "cell_type": "markdown",
   "id": "61457c2b",
   "metadata": {},
   "source": [
    "## Exercise 5\n",
    "\n",
    "**Given a number N. Find out if it's PRIME NUMBER OR NOT.**\n",
    "\n",
    "**PRIME NUMBER:**  \n",
    "\n",
    "A number P is called as PRIME NUMBER, if it's only divisible by 1 and itself.  \n",
    "\n",
    "In other words P is called a PRIME NUMBER, if it's factors are 1 & P.  \n",
    "\n",
    "**Example:**  \n",
    "3 is PRIME becuase it's only factors are 1 and 3  \n",
    "5 is PRIME becuase it's only factors are 1 and 5  \n",
    "7 is PRIME becuase it's only factors are 1 and 7  \n",
    "\n",
    "On the other hand  \n",
    "4 is NOT PRIME, as it's having 2 as a factor, along with 1 and 4  \n",
    "9 is NOT PRIME, as it's having 3 as a factor, along with 1 and 9  \n",
    "8 is NOT PRIME, as it's having 2, 4 as factors, along with 1 and 8.  \n",
    "\n",
    "*You can say that a number P is a prime, if it's having ONLY TWO (2) FACTORS (DIVISORS)*\n",
    "\n",
    "**Sample I/O**  \n",
    "\n",
    "***Input1:***  \n",
    "5<br>\n",
    "***Output1:***  \n",
    "PRIME  \n",
    "\n",
    "***Input2:***  \n",
    "10  \n",
    "***Output2:***  \n",
    "NOT PRIME  \n",
    "\n",
    "***Input3:***  \n",
    "23  \n",
    "***Output3:***  \n",
    "PRIME  \n",
    "\n",
    "***Input4:***  \n",
    "121  \n",
    "***Output4:***  \n",
    "NOT PRIME  "
   ]
  },
  {
   "cell_type": "code",
   "execution_count": 45,
   "id": "6a2b4b33",
   "metadata": {},
   "outputs": [
    {
     "name": "stdout",
     "output_type": "stream",
     "text": [
      "5\n",
      "PRIME\n"
     ]
    }
   ],
   "source": [
    "# Write your code here using while loop\n",
    "a=int(input())\n",
    "i=1\n",
    "c=0\n",
    "while i<=a:\n",
    "    if a%i==0:\n",
    "        c=c+1\n",
    "    i=i+1\n",
    "if c==2:\n",
    "    print(\"PRIME\")\n",
    "else:\n",
    "    print(\"NOT PRIME\")"
   ]
  },
  {
   "cell_type": "code",
   "execution_count": 43,
   "id": "ef1e30b6",
   "metadata": {},
   "outputs": [
    {
     "name": "stdout",
     "output_type": "stream",
     "text": [
      "23\n",
      "PRIME\n"
     ]
    }
   ],
   "source": [
    "# Write your code here using for loop\n",
    "a=int(input())\n",
    "i=1\n",
    "c=0\n",
    "for i in range(i,a+1):\n",
    "    if a%i==0:\n",
    "        c=c+1\n",
    "if c==2:\n",
    "    print(\"PRIME\")\n",
    "else:\n",
    "    print(\"NOT PRIME\")"
   ]
  },
  {
   "cell_type": "markdown",
   "id": "2791b281",
   "metadata": {},
   "source": [
    "## Exercise 6\n",
    "\n",
    "**Given a number N. Find out the sum all the factors of that number.**\n",
    "\n",
    "**Example:**  \n",
    "Let's suppose N = 8,  \n",
    "Factors (divisors) of 8 are  \n",
    "1 2 4 8  \n",
    "sum of them is 1 + 2 + 4 + 8 --> 15  \n",
    "\n",
    "\n",
    "**Sample I/O**  \n",
    "\n",
    "***Input1:***  \n",
    "8<br>\n",
    "***Output1:***  \n",
    "15  \n",
    "\n",
    "***Input2:***  \n",
    "10  \n",
    "***Output2:***  \n",
    "18  \n",
    "\n",
    "***Input3:***  \n",
    "20  \n",
    "***Output3:***  \n",
    "42  \n",
    "\n",
    "***Input4:***  \n",
    "120  \n",
    "***Output4:***  \n",
    "360  "
   ]
  },
  {
   "cell_type": "code",
   "execution_count": 46,
   "id": "eb69a013",
   "metadata": {},
   "outputs": [
    {
     "name": "stdout",
     "output_type": "stream",
     "text": [
      "120\n",
      "360\n"
     ]
    }
   ],
   "source": [
    "# Write your code here using while loop\n",
    "a=int(input())\n",
    "i=1\n",
    "sum=0\n",
    "while i<=a:\n",
    "    if a%i==0:\n",
    "        sum=sum+i\n",
    "    i=i+1\n",
    "print(sum)"
   ]
  },
  {
   "cell_type": "code",
   "execution_count": 47,
   "id": "767c3425",
   "metadata": {},
   "outputs": [
    {
     "name": "stdout",
     "output_type": "stream",
     "text": [
      "20\n",
      "42\n"
     ]
    }
   ],
   "source": [
    "# Write your code here using for loop\n",
    "a=int(input())\n",
    "i=1\n",
    "sum=0\n",
    "for i in range(i,a+1):\n",
    "    if a%i==0:\n",
    "        sum=sum+i\n",
    "print(sum)"
   ]
  },
  {
   "cell_type": "markdown",
   "id": "0bc10cd2",
   "metadata": {},
   "source": [
    "## Exercise 7\n",
    "\n",
    "**Given three numbers A, B and X.  Print all the numbers A to B (Inclusive) that are divisible by X. Also find out the sum of those numbers.**\n",
    "\n",
    "**Example:**\n",
    "\n",
    "If A = 22, B = 47 and X = 7, then   \n",
    "the numbers from 22 to 47 that are divisible by 7 are **28 35 42** and their sum **28 + 35 + 42 = 105**\n",
    "\n",
    "\n",
    "- It's guaranteed that A < B\n",
    "\n",
    "**Sample I/O**  \n",
    "\n",
    "***Input1:***  \n",
    "22 47 7  \n",
    "***Output1:***  \n",
    "28 35 42  \n",
    "Sum is 105  \n",
    "\n",
    "***Input2:***  \n",
    "100 200 10  \n",
    "***Output2:***  \n",
    "100 110 120 130 140 150 160 170 180 190 200  \n",
    "Sum is 1650  \n",
    "\n",
    "***Input3:***  \n",
    "974 1085 18  \n",
    "***Output3:***  \n",
    "990 1008 1026 1044 1062 1080  \n",
    "Sum is 6210  \n",
    "\n",
    "***Input4:***  \n",
    "1 10 1  \n",
    "***Output4:***  \n",
    "1 2 3 4 5 6 7 8 9 10  \n",
    "Sum is 55  "
   ]
  },
  {
   "cell_type": "code",
   "execution_count": 2,
   "id": "099357e6",
   "metadata": {},
   "outputs": [
    {
     "name": "stdout",
     "output_type": "stream",
     "text": [
      "1 10 1\n",
      "1 2 3 4 5 6 7 8 9 10 \n",
      "Sum is 55\n"
     ]
    }
   ],
   "source": [
    "# Write your code here using while loop\n",
    "a,b,x=map(int,input().split())\n",
    "sum=0\n",
    "while a<=b:\n",
    "    if a%x==0:\n",
    "        print(a,end=' ')\n",
    "        sum=sum+a\n",
    "    a=a+1\n",
    "print(\"\\nSum is %d\"%sum)"
   ]
  },
  {
   "cell_type": "code",
   "execution_count": 4,
   "id": "cf3c7fda",
   "metadata": {},
   "outputs": [
    {
     "name": "stdout",
     "output_type": "stream",
     "text": [
      "974 1085 18\n",
      "990 1008 1026 1044 1062 1080 \n",
      "Sum is 6210\n"
     ]
    }
   ],
   "source": [
    "# Write your code here using for loop\n",
    "a,b,x=map(int,input().split())\n",
    "sum=0\n",
    "for a in range(a,b+1):\n",
    "    if a%x==0:\n",
    "        print(a,end=' ')\n",
    "        sum=sum+a\n",
    "print(\"\\nSum is %d\"%sum)"
   ]
  },
  {
   "cell_type": "markdown",
   "id": "e12ebe3f",
   "metadata": {},
   "source": [
    "## Exercise 8\n",
    "\n",
    "**Given four Integers A, B, X and Y.**\n",
    "\n",
    "**Find out the SUM OF ALL NUMBERS FROM A TO B (INCLUSIVE) that are DIVISIBLE BY X, BUT NOT BY Y.**\n",
    "\n",
    "\n",
    "***Example:***\n",
    "\n",
    "If ***A = 10, B = 20, X = 3, Y = 5***, then  \n",
    "the numbers from **10 to 20 that are DIVISIBLE BY 3 BUT NOT BY 5** are **12 18** and **12 + 18** is 30.  \n",
    "\n",
    "- It's guaranteed that A < B.\n",
    " \n",
    "**Sample I/O**  \n",
    "\n",
    "***Input1:***  \n",
    "10 20 3 5<br>\n",
    "***Output1:***  \n",
    "30  \n",
    "\n",
    "***Input2:***  \n",
    "50 100 6 8  \n",
    "***Output2:***  \n",
    "432  \n",
    "\n",
    "***Input3:***  \n",
    "1 10 3 1  \n",
    "***Output3:***  \n",
    "0\n",
    "\n",
    "***Input4:***  \n",
    "1 10 3 2  \n",
    "***Output4:***  \n",
    "12  "
   ]
  },
  {
   "cell_type": "code",
   "execution_count": 6,
   "id": "56755828",
   "metadata": {},
   "outputs": [
    {
     "name": "stdout",
     "output_type": "stream",
     "text": [
      "1 10 3 2\n",
      "12\n"
     ]
    }
   ],
   "source": [
    "# Write your code here using while loop\n",
    "a,b,x,y=map(int,input().split())\n",
    "sum=0\n",
    "while a<=b:\n",
    "    if a%x==0 and a%y!=0:\n",
    "        sum=sum+a\n",
    "    a=a+1\n",
    "print(sum)"
   ]
  },
  {
   "cell_type": "code",
   "execution_count": 8,
   "id": "9c1f2f4b",
   "metadata": {},
   "outputs": [
    {
     "name": "stdout",
     "output_type": "stream",
     "text": [
      "10 20 3 5\n",
      "30\n"
     ]
    }
   ],
   "source": [
    "# Write your code here using for loop\n",
    "a,b,x,y=map(int,input().split())\n",
    "sum=0\n",
    "for a in range(a,b+1):\n",
    "    if a%x==0 and a%y!=0:\n",
    "        sum=sum+a\n",
    "print(sum)"
   ]
  }
 ],
 "metadata": {
  "kernelspec": {
   "display_name": "Python 3 (ipykernel)",
   "language": "python",
   "name": "python3"
  },
  "language_info": {
   "codemirror_mode": {
    "name": "ipython",
    "version": 3
   },
   "file_extension": ".py",
   "mimetype": "text/x-python",
   "name": "python",
   "nbconvert_exporter": "python",
   "pygments_lexer": "ipython3",
   "version": "3.9.13"
  },
  "latex_envs": {
   "LaTeX_envs_menu_present": true,
   "autoclose": false,
   "autocomplete": true,
   "bibliofile": "biblio.bib",
   "cite_by": "apalike",
   "current_citInitial": 1,
   "eqLabelWithNumbers": true,
   "eqNumInitial": 1,
   "hotkeys": {
    "equation": "Ctrl-E",
    "itemize": "Ctrl-I"
   },
   "labels_anchors": false,
   "latex_user_defs": false,
   "report_style_numbering": false,
   "user_envs_cfg": false
  },
  "toc": {
   "base_numbering": 1,
   "nav_menu": {},
   "number_sections": true,
   "sideBar": true,
   "skip_h1_title": false,
   "title_cell": "Table of Contents",
   "title_sidebar": "Contents",
   "toc_cell": false,
   "toc_position": {},
   "toc_section_display": true,
   "toc_window_display": false
  }
 },
 "nbformat": 4,
 "nbformat_minor": 5
}
