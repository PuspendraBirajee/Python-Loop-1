{
 "cells": [
  {
   "cell_type": "markdown",
   "id": "a6ae83f1",
   "metadata": {},
   "source": [
    "# Programs on Loops (I)"
   ]
  },
  {
   "cell_type": "markdown",
   "id": "d3bfbdde",
   "metadata": {},
   "source": [
    "## Exercise 1\n",
    "\n",
    "**Print numbers from 1 to 10**"
   ]
  },
  {
   "cell_type": "code",
   "execution_count": 5,
   "id": "20e100d0",
   "metadata": {},
   "outputs": [
    {
     "name": "stdout",
     "output_type": "stream",
     "text": [
      "1 2 3 4 5 6 7 8 9 10 "
     ]
    }
   ],
   "source": [
    "# Write your code here using while loop\n",
    "i=1\n",
    "while (i<=10):\n",
    "    print(i, end = ' ')\n",
    "    i=i+1"
   ]
  },
  {
   "cell_type": "code",
   "execution_count": 7,
   "id": "d5523d1a-5b32-4474-8d83-37a3779c4bd6",
   "metadata": {},
   "outputs": [
    {
     "name": "stdout",
     "output_type": "stream",
     "text": [
      "1\n",
      "2\n",
      "3\n",
      "4\n",
      "5\n",
      "6\n",
      "7\n",
      "8\n",
      "9\n",
      "10\n"
     ]
    }
   ],
   "source": [
    "# Write your code here using for loop\n",
    "for i in range(1,11):\n",
    "    print(i)"
   ]
  },
  {
   "cell_type": "code",
   "execution_count": 6,
   "id": "f9643796",
   "metadata": {
    "scrolled": true
   },
   "outputs": [
    {
     "name": "stdout",
     "output_type": "stream",
     "text": [
      "1 2 3 4 5 6 7 8 9 10 "
     ]
    }
   ],
   "source": [
    "# Write your code here using for loop\n",
    "for i in range(1,11,1):\n",
    "    print(i, end = ' ')\n",
    "    "
   ]
  },
  {
   "cell_type": "markdown",
   "id": "d0abd3f5",
   "metadata": {},
   "source": [
    "## Exercise 2\n",
    "\n",
    "**Print the numbers from 10 to 1**"
   ]
  },
  {
   "cell_type": "code",
   "execution_count": 8,
   "id": "6f794811",
   "metadata": {},
   "outputs": [
    {
     "name": "stdout",
     "output_type": "stream",
     "text": [
      "10 9 8 7 6 5 4 3 2 1 "
     ]
    }
   ],
   "source": [
    "# Write your code here using while loop\n",
    "i=10\n",
    "while(i>=1):\n",
    "    print(i, end = ' ')\n",
    "    i=i-1"
   ]
  },
  {
   "cell_type": "code",
   "execution_count": 23,
   "id": "80c11e6e",
   "metadata": {},
   "outputs": [
    {
     "name": "stdout",
     "output_type": "stream",
     "text": [
      "10 9 8 7 6 5 4 3 2 1 "
     ]
    }
   ],
   "source": [
    "# Write your code here using for loop\n",
    "for i in range(10,0,-1):\n",
    "    print(i, end = ' ')"
   ]
  },
  {
   "cell_type": "markdown",
   "id": "addb9f9a",
   "metadata": {},
   "source": [
    "## Exercise 3\n",
    "\n",
    "**You will be given two values A and B respectively. Print the numbers from A to B (Both inclusive)**\n",
    "\n",
    "- It is guaranteed that $ A \\leq B $\n",
    "\n",
    "**Sample I/O**  \n",
    "\n",
    "***Input1:***  \n",
    "10 20  \n",
    "***Output1:***  \n",
    "10 11 12 13 14 15 16 17 18 19 20  \n",
    "\n",
    "***Input2:***  \n",
    "23 31  \n",
    "***Output2:***  \n",
    "23 24 25 26 27 28 29 30 31\n",
    "\n",
    "***Input3:***  \n",
    "1236 1347  \n",
    "***Output3:***  \n",
    "1236 1237 1238 1239 1240 1241 1242 1243 1244 1245 1246 1247 1248 1249 1250 1251 1252 1253 1254 1255 1256 1257 1258 1259 1260 1261 1262 1263 1264 1265 1266 1267 1268 1269 1270 1271 1272 1273 1274 1275 1276 1277 1278 1279 1280 1281 1282 1283 1284 1285 1286 1287 1288 1289 1290 1291 1292 1293 1294 1295 1296 1297 1298 1299 1300 1301 1302 1303 1304 1305 1306 1307 1308 1309 1310 1311 1312 1313 1314 1315 1316 1317 1318 1319 1320 1321 1322 1323 1324 1325 1326 1327 1328 1329 1330 1331 1332 1333 1334 1335 1336 1337 1338 1339 1340 1341 1342 1343 1344 1345 1346 1347  \n",
    "\n",
    "***Input3:***  \n",
    "231 231  \n",
    "***Output3:***  \n",
    "231"
   ]
  },
  {
   "cell_type": "code",
   "execution_count": 2,
   "id": "b0ed6919",
   "metadata": {},
   "outputs": [
    {
     "name": "stdin",
     "output_type": "stream",
     "text": [
      " 10 20\n"
     ]
    },
    {
     "name": "stdout",
     "output_type": "stream",
     "text": [
      "10 11 12 13 14 15 16 17 18 19 20 "
     ]
    }
   ],
   "source": [
    "# Write your code here using while loop\n",
    "a,b=map(int,input().split())\n",
    "i=a\n",
    "while(i<=b):\n",
    "    print(i, end=' ')\n",
    "    i=i+1"
   ]
  },
  {
   "cell_type": "code",
   "execution_count": 3,
   "id": "30000c0f",
   "metadata": {},
   "outputs": [
    {
     "name": "stdin",
     "output_type": "stream",
     "text": [
      " 1236 1347\n"
     ]
    },
    {
     "name": "stdout",
     "output_type": "stream",
     "text": [
      "1236 1237 1238 1239 1240 1241 1242 1243 1244 1245 1246 1247 1248 1249 1250 1251 1252 1253 1254 1255 1256 1257 1258 1259 1260 1261 1262 1263 1264 1265 1266 1267 1268 1269 1270 1271 1272 1273 1274 1275 1276 1277 1278 1279 1280 1281 1282 1283 1284 1285 1286 1287 1288 1289 1290 1291 1292 1293 1294 1295 1296 1297 1298 1299 1300 1301 1302 1303 1304 1305 1306 1307 1308 1309 1310 1311 1312 1313 1314 1315 1316 1317 1318 1319 1320 1321 1322 1323 1324 1325 1326 1327 1328 1329 1330 1331 1332 1333 1334 1335 1336 1337 1338 1339 1340 1341 1342 1343 1344 1345 1346 1347 "
     ]
    }
   ],
   "source": [
    "# Write your code here using for loop\n",
    "a,b=map(int,input().split())\n",
    "for i in range(a,b+1):\n",
    "    print(i, end=' ')"
   ]
  },
  {
   "cell_type": "code",
   "execution_count": null,
   "id": "93c47b3f",
   "metadata": {},
   "outputs": [],
   "source": [
    "# Write your code here using for loop"
   ]
  },
  {
   "cell_type": "markdown",
   "id": "0edeb7c3",
   "metadata": {},
   "source": [
    "## Exercise 4\n",
    "\n",
    "**You will be given two values A and B respectively. Print all thenumbers from B to A (Both inclusive)**\n",
    "\n",
    "- It is guaranteed that $B \\geq A$.\n",
    "\n",
    "**Sample I/O**  \n",
    "\n",
    "***Input1:***  \n",
    "1 10  \n",
    "***Output1:***  \n",
    "10 9 8 7 6 5 4 3 2 1  \n",
    "\n",
    "***Input2:***  \n",
    "17 23  \n",
    "***Output2:***  \n",
    "23 22 21 20 19 18 16 17  \n",
    "\n",
    "***Input3:***  \n",
    "123\n",
    "231  \n",
    "***Output3:***  \n",
    "231 230 229 228 227 226 225 224 223 222 221 220 219 218 217 216 215 214 213 212 211 210 209 208 207 206 205 204 203 202 201 200 199 198 197 196 195 194 193 192 191 190 189 188 187 186 185 184 183 182 181 180 179 178 177 176 175 174 173 172 171 170 169 168 167 166 165 164 163 162 161 160 159 158 157 156 155 154 153 152 151 150 149 148 147 146 145 144 143 142 141 140 139 138 137 136 135 134 133 132 131 130 129 128 127 126 125 124 123  \n",
    "\n",
    "***Input4:***  \n",
    "1234 1234  \n",
    "***Output4:***  \n",
    "1234"
   ]
  },
  {
   "cell_type": "code",
   "execution_count": 5,
   "id": "c33c7d73",
   "metadata": {},
   "outputs": [
    {
     "name": "stdin",
     "output_type": "stream",
     "text": [
      " 17 23\n"
     ]
    },
    {
     "name": "stdout",
     "output_type": "stream",
     "text": [
      "23 22 21 20 19 18 17 "
     ]
    }
   ],
   "source": [
    "# Write your code here using while loop\n",
    "a,b=map(int,input().split())\n",
    "i=b\n",
    "while(i>=a):\n",
    "    print(i, end = ' ')\n",
    "    i=i-1"
   ]
  },
  {
   "cell_type": "code",
   "execution_count": 11,
   "id": "fe09666b",
   "metadata": {},
   "outputs": [
    {
     "name": "stdin",
     "output_type": "stream",
     "text": [
      " 123 231\n"
     ]
    },
    {
     "name": "stdout",
     "output_type": "stream",
     "text": [
      "231 230 229 228 227 226 225 224 223 222 221 220 219 218 217 216 215 214 213 212 211 210 209 208 207 206 205 204 203 202 201 200 199 198 197 196 195 194 193 192 191 190 189 188 187 186 185 184 183 182 181 180 179 178 177 176 175 174 173 172 171 170 169 168 167 166 165 164 163 162 161 160 159 158 157 156 155 154 153 152 151 150 149 148 147 146 145 144 143 142 141 140 139 138 137 136 135 134 133 132 131 130 129 128 127 126 125 124 123 "
     ]
    }
   ],
   "source": [
    "# Write your code here using for loop\n",
    "a,b=map(int,input().split())\n",
    "i=b\n",
    "for i in range(b,a-1,-1):\n",
    "    print(i, end=' ')\n",
    "    "
   ]
  },
  {
   "cell_type": "markdown",
   "id": "2791b281",
   "metadata": {},
   "source": [
    "## Exercise 5\n",
    "\n",
    "**Take two numbers from user A and B respectively. And print**\n",
    "- n\n",
    "- sqaure of n ($n^2$)\n",
    "- cube of n ($n^3$)\n",
    "- where A < n < B\n",
    "\n",
    "In other words **print the NUMBER, SQUARE OF NUMBER and CUBE OF NUMBER for EVERY NUMBER from A to B (Both Exclusive)**. See the sample inputs for a better understanding.\n",
    "\n",
    "- It is guaranteed that $ A < B$ and $ B - A \\geq 2 $\n",
    "\n",
    "**Sample I/O**  \n",
    "\n",
    "***Input1:***  \n",
    "2 7  \n",
    "***Output1:***  \n",
    "3 9 27  \n",
    "4 16 64  \n",
    "5 25 125  \n",
    "6 36 216  \n",
    "\n",
    "***Input2:***  \n",
    "13 21  \n",
    "***Output2:***  \n",
    "14 196 2744  \n",
    "15 225 3375  \n",
    "16 256 4096  \n",
    "17 289 4913  \n",
    "18 324 5832  \n",
    "19 361 6859  \n",
    "20 400 8000   \n",
    "\n",
    "***Input3:***  \n",
    "79  81  \n",
    "***Output3:***  \n",
    "80 6400 512000  \n",
    "\n",
    "***Input4:***  \n",
    "1723 1745  \n",
    "***Output4:***  \n",
    "1724 2972176 5124031424  \n",
    "1725 2975625 5132953125  \n",
    "1726 2979076 5141885176  \n",
    "1727 2982529 5150827583  \n",
    "1728 2985984 5159780352  \n",
    "1729 2989441 5168743489  \n",
    "1730 2992900 5177717000  \n",
    "1731 2996361 5186700891  \n",
    "1732 2999824 5195695168  \n",
    "1733 3003289 5204699837  \n",
    "1734 3006756 5213714904  \n",
    "1735 3010225 5222740375  \n",
    "1736 3013696 5231776256  \n",
    "1737 3017169 5240822553  \n",
    "1738 3020644 5249879272  \n",
    "1739 3024121 5258946419  \n",
    "1740 3027600 5268024000  \n",
    "1741 3031081 5277112021  \n",
    "1742 3034564 5286210488  \n",
    "1743 3038049 5295319407  \n",
    "1744 3041536 5304438784  "
   ]
  },
  {
   "cell_type": "code",
   "execution_count": 5,
   "id": "eb69a013",
   "metadata": {},
   "outputs": [],
   "source": [
    "# Write your code here using while loop\n",
    "a,b=map(int,input().split())\n",
    "\n",
    "while("
   ]
  },
  {
   "cell_type": "code",
   "execution_count": 18,
   "id": "767c3425",
   "metadata": {},
   "outputs": [
    {
     "name": "stdin",
     "output_type": "stream",
     "text": [
      " 2 7\n"
     ]
    },
    {
     "name": "stdout",
     "output_type": "stream",
     "text": [
      "3 9 27\n",
      "4 16 64\n",
      "5 25 125\n",
      "6 36 216\n"
     ]
    }
   ],
   "source": [
    "# Write your code here using for loop\n",
    "a,b=map(int,input().split())\n",
    "for a in range(a+1,b):\n",
    "    print(a,a*a,a*a*a)\n",
    "    "
   ]
  },
  {
   "cell_type": "markdown",
   "id": "e12ebe3f",
   "metadata": {},
   "source": [
    "## Exercise 6\n",
    "\n",
    "**Print the *MULTIPLICATION TABLE OF THE GIVEN NUMBER N* upto 12 terms (starting from 1)**.\n",
    "\n",
    "**Sample I/O**  \n",
    "\n",
    "***Input1:***  \n",
    "5<br>\n",
    "***Output1:***  \n",
    "5 x 1 = 5  \n",
    "5 x 2 = 10  \n",
    "5 x 3 = 15  \n",
    "5 x 4 = 20  \n",
    "5 x 5 = 25  \n",
    "5 x 6 = 30  \n",
    "5 x 7 = 35  \n",
    "5 x 8 = 40  \n",
    "5 x 9 = 45  \n",
    "5 x 10 = 50  \n",
    "5 x 11 = 55  \n",
    "5 x 12 = 60  \n",
    "\n",
    "***Input2:***  \n",
    "149  \n",
    "***Output2:***  \n",
    "149 x 1 = 149  \n",
    "149 x 2 = 298  \n",
    "149 x 3 = 447  \n",
    "149 x 4 = 596  \n",
    "149 x 5 = 745  \n",
    "149 x 6 = 894  \n",
    "149 x 7 = 1043  \n",
    "149 x 8 = 1192  \n",
    "149 x 9 = 1341  \n",
    "149 x 10 = 1490  \n",
    "149 x 11 = 1639  \n",
    "149 x 12 = 1788    \n",
    "\n",
    "***Input3:***  \n",
    "16  \n",
    "***Output3:***  \n",
    "16 x 1 = 16  \n",
    "16 x 2 = 32  \n",
    "16 x 3 = 48  \n",
    "16 x 4 = 64  \n",
    "16 x 5 = 80  \n",
    "16 x 6 = 96  \n",
    "16 x 7 = 112  \n",
    "16 x 8 = 128  \n",
    "16 x 9 = 144  \n",
    "16 x 10 = 160  \n",
    "16 x 11 = 176  \n",
    "16 x 12 = 192    \n",
    "\n",
    "***Input4:***  \n",
    "57  \n",
    "***Output4:***  \n",
    "57 x 1 = 57  \n",
    "57 x 2 = 114  \n",
    "57 x 3 = 171  \n",
    "57 x 4 = 228  \n",
    "57 x 5 = 285  \n",
    "57 x 6 = 342  \n",
    "57 x 7 = 399  \n",
    "57 x 8 = 456  \n",
    "57 x 9 = 513  \n",
    "57 x 10 = 570  \n",
    "57 x 11 = 627  \n",
    "57 x 12 = 684    "
   ]
  },
  {
   "cell_type": "code",
   "execution_count": 1,
   "id": "56755828",
   "metadata": {},
   "outputs": [
    {
     "name": "stdout",
     "output_type": "stream",
     "text": [
      "5\n",
      "5 X 1 = 5\n",
      "5 X 2 = 10\n",
      "5 X 3 = 15\n",
      "5 X 4 = 20\n",
      "5 X 5 = 25\n",
      "5 X 6 = 30\n",
      "5 X 7 = 35\n",
      "5 X 8 = 40\n",
      "5 X 9 = 45\n",
      "5 X 10 = 50\n",
      "5 X 11 = 55\n",
      "5 X 12 = 60\n"
     ]
    }
   ],
   "source": [
    "# Write your code here using while loop\n",
    "n=int(input())\n",
    "i=1\n",
    "while i<=12:\n",
    "    a=n*i\n",
    "    print(n ,\"X\" ,i, \"=\", a)\n",
    "    i=i+1"
   ]
  },
  {
   "cell_type": "code",
   "execution_count": 4,
   "id": "9c1f2f4b",
   "metadata": {},
   "outputs": [
    {
     "name": "stdout",
     "output_type": "stream",
     "text": [
      "5\n",
      "5  X 1  =  5\n",
      "5  X 2  =  10\n",
      "5  X 3  =  15\n",
      "5  X 4  =  20\n",
      "5  X 5  =  25\n",
      "5  X 6  =  30\n",
      "5  X 7  =  35\n",
      "5  X 8  =  40\n",
      "5  X 9  =  45\n",
      "5  X 10  =  50\n",
      "5  X 11  =  55\n",
      "5  X 12  =  60\n"
     ]
    }
   ],
   "source": [
    "# Write your code here using for loop\n",
    "n=int(input())\n",
    "i=1\n",
    "for i in range(i,13):\n",
    "    print(n,\" X\", i,\" = \",n*i)"
   ]
  },
  {
   "cell_type": "markdown",
   "id": "b9318c73",
   "metadata": {},
   "source": [
    "## Exercise 7\n",
    "\n",
    "**Print the MULTIPLICATION TABLE OF A GIVEN NUMBER N UPTO R TERMS (starting from 1)**\n",
    "\n",
    "**Sample I/O**  \n",
    "\n",
    "***Input1:***  \n",
    "5 10  \n",
    "***Output1:***  \n",
    "5 x 1 = 5  \n",
    "5 x 2 = 10  \n",
    "5 x 3 = 15  \n",
    "5 x 4 = 20  \n",
    "5 x 5 = 25  \n",
    "5 x 6 = 30  \n",
    "5 x 7 = 35  \n",
    "5 x 8 = 40  \n",
    "5 x 9 = 45  \n",
    "5 x 10 = 50   \n",
    "\n",
    "***Input2:***  \n",
    "12 24  \n",
    "***Output2:***  \n",
    "12 x 1 = 12  \n",
    "12 x 2 = 24  \n",
    "12 x 3 = 36  \n",
    "12 x 4 = 48  \n",
    "12 x 5 = 60  \n",
    "12 x 6 = 72  \n",
    "12 x 7 = 84  \n",
    "12 x 8 = 96  \n",
    "12 x 9 = 108  \n",
    "12 x 10 = 120  \n",
    "12 x 11 = 132  \n",
    "12 x 12 = 144  \n",
    "12 x 13 = 156  \n",
    "12 x 14 = 168  \n",
    "12 x 15 = 180  \n",
    "12 x 16 = 192  \n",
    "12 x 17 = 204  \n",
    "12 x 18 = 216  \n",
    "12 x 19 = 228  \n",
    "12 x 20 = 240  \n",
    "12 x 21 = 252  \n",
    "12 x 22 = 264  \n",
    "12 x 23 = 276  \n",
    "12 x 24 = 288    \n",
    "\n",
    "***Input3:***  \n",
    "179 17  \n",
    "***Output3:***  \n",
    "179 x 1 = 179  \n",
    "179 x 2 = 358  \n",
    "179 x 3 = 537  \n",
    "179 x 4 = 716  \n",
    "179 x 5 = 895  \n",
    "179 x 6 = 1074  \n",
    "179 x 7 = 1253  \n",
    "179 x 8 = 1432  \n",
    "179 x 9 = 1611  \n",
    "179 x 10 = 1790  \n",
    "179 x 11 = 1969  \n",
    "179 x 12 = 2148  \n",
    "179 x 13 = 2327  \n",
    "179 x 14 = 2506  \n",
    "179 x 15 = 2685  \n",
    "179 x 16 = 2864  \n",
    "179 x 17 = 3043    \n",
    "\n",
    "***Input4:***  \n",
    "97 7   \n",
    "***Output4:***  \n",
    "97 x 1 = 97  \n",
    "97 x 2 = 194  \n",
    "97 x 3 = 291  \n",
    "97 x 4 = 388  \n",
    "97 x 5 = 485  \n",
    "97 x 6 = 582  \n",
    "97 x 7 = 679    "
   ]
  },
  {
   "cell_type": "code",
   "execution_count": 7,
   "id": "af05c8da",
   "metadata": {},
   "outputs": [
    {
     "name": "stdout",
     "output_type": "stream",
     "text": [
      "97 7\n",
      "97 X 1 = 97\n",
      "97 X 2 = 194\n",
      "97 X 3 = 291\n",
      "97 X 4 = 388\n",
      "97 X 5 = 485\n",
      "97 X 6 = 582\n",
      "97 X 7 = 679\n"
     ]
    }
   ],
   "source": [
    "# Write your code here using while loop\n",
    "n,u=map(int,input().split())\n",
    "i=1\n",
    "while i<=u:\n",
    "    print(\"%d X %d = %d\" %(n,i,n*i))\n",
    "    i=i+1"
   ]
  },
  {
   "cell_type": "code",
   "execution_count": 10,
   "id": "0303ba84",
   "metadata": {},
   "outputs": [
    {
     "name": "stdout",
     "output_type": "stream",
     "text": [
      "5 10\n",
      "5 X 1 = 5\n",
      "5 X 2 = 10\n",
      "5 X 3 = 15\n",
      "5 X 4 = 20\n",
      "5 X 5 = 25\n",
      "5 X 6 = 30\n",
      "5 X 7 = 35\n",
      "5 X 8 = 40\n",
      "5 X 9 = 45\n",
      "5 X 10 = 50\n"
     ]
    }
   ],
   "source": [
    "# Write your code here using for loop\n",
    "n,u=map(int,input().split())\n",
    "i=1\n",
    "for i in range(i,u+1):\n",
    "    print(\"%d X %d = %d\" %(n,i,n*i))"
   ]
  },
  {
   "cell_type": "markdown",
   "id": "419dd6b6",
   "metadata": {},
   "source": [
    "## Exercise 8\n",
    "\n",
    "You'll be given three numbers **N, A and B**. Print the **MULTIPLICATION TABLE OF NUMBER N FROM A TO B (Both inclusive)**.  \n",
    "Refer to the sample I/O for more clarity.  \n",
    "\n",
    "- It is guaranteed that $ A < B $\n",
    "\n",
    "**Sample I/O**  \n",
    "\n",
    "***Input1:***  \n",
    "7 14 21  \n",
    "***Output1:***  \n",
    "7 x 14 = 98  \n",
    "7 x 15 = 105  \n",
    "7 x 16 = 112  \n",
    "7 x 17 = 119  \n",
    "7 x 18 = 126  \n",
    "7 x 19 = 133  \n",
    "7 x 20 = 140  \n",
    "7 x 21 = 147      \n",
    "\n",
    "***Input2:***  \n",
    "291 421 435  \n",
    "***Output2:***  \n",
    "291 x 421 = 122511  \n",
    "291 x 422 = 122802  \n",
    "291 x 423 = 123093  \n",
    "291 x 424 = 123384  \n",
    "291 x 425 = 123675  \n",
    "291 x 426 = 123966  \n",
    "291 x 427 = 124257  \n",
    "291 x 428 = 124548  \n",
    "291 x 429 = 124839  \n",
    "291 x 430 = 125130  \n",
    "291 x 431 = 125421  \n",
    "291 x 432 = 125712  \n",
    "291 x 433 = 126003  \n",
    "291 x 434 = 126294  \n",
    "291 x 435 = 126585    \n",
    "\n",
    "***Input3:***  \n",
    "16 71 77  \n",
    "***Output3:***  \n",
    "16 x 71 = 1136  \n",
    "16 x 72 = 1152  \n",
    "16 x 73 = 1168  \n",
    "16 x 74 = 1184  \n",
    "16 x 75 = 1200  \n",
    "16 x 76 = 1216  \n",
    "16 x 77 = 1232    \n",
    "\n",
    "***Input4:***  \n",
    "19 12 15  \n",
    "***Output4:***  \n",
    "19 x 12 = 228  \n",
    "19 x 13 = 247  \n",
    "19 x 14 = 266  \n",
    "19 x 15 = 285    "
   ]
  },
  {
   "cell_type": "code",
   "execution_count": 14,
   "id": "71668376",
   "metadata": {},
   "outputs": [
    {
     "name": "stdout",
     "output_type": "stream",
     "text": [
      "19 12 15\n",
      "19 X 12 = 228\n",
      "19 X 13 = 247\n",
      "19 X 14 = 266\n",
      "19 X 15 = 285\n"
     ]
    }
   ],
   "source": [
    "# Write your code here using while loop\n",
    "n,l,u=map(int,input().split())\n",
    "while l<=u:\n",
    "    print(\"%d X %d = %d\" %(n,l,n*l))\n",
    "    l=l+1"
   ]
  },
  {
   "cell_type": "code",
   "execution_count": 16,
   "id": "85808839",
   "metadata": {},
   "outputs": [
    {
     "name": "stdout",
     "output_type": "stream",
     "text": [
      "16 71 77\n",
      "16 X 71 = 1136\n",
      "16 X 72 = 1152\n",
      "16 X 73 = 1168\n",
      "16 X 74 = 1184\n",
      "16 X 75 = 1200\n",
      "16 X 76 = 1216\n",
      "16 X 77 = 1232\n"
     ]
    }
   ],
   "source": [
    "# Write your code here using for loop\n",
    "n,l,u=map(int,input().split())\n",
    "for l in range(l,u+1):\n",
    "    print(\"%d X %d = %d\"%(n,l,n*l))"
   ]
  },
  {
   "cell_type": "markdown",
   "id": "c358a228",
   "metadata": {},
   "source": [
    "## Exercise 9\n",
    "\n",
    "You'll be given three numbers **X, Y and Z**. Print the all the numbers from **X** to **Y** (inclusive) with a difference of **Z**.\n",
    "\n",
    "\n",
    "- It's guaranteed that **X < Y**\n",
    "- See the Sample I/O for more clarity.\n",
    "\n",
    "**Sample I/O**  \n",
    "\n",
    "***Input1:***  \n",
    "10 100 12  \n",
    "***Output1:***  \n",
    "10 22 34 46 58 70 82 94  \n",
    "\n",
    "***Input2:***  \n",
    "100 2100 500  \n",
    "***Output2:***  \n",
    "100 600 1100 1600 2100  \n",
    "\n",
    "***Input3:***  \n",
    "2000 3000 700  \n",
    "***Output3:***  \n",
    "2000 2700  \n",
    "\n",
    "***Input4:***  \n",
    "1234 2443 347     \n",
    "***Output4:***  \n",
    "1234 1581 1928 2275  "
   ]
  },
  {
   "cell_type": "code",
   "execution_count": 17,
   "id": "2e85dc56",
   "metadata": {},
   "outputs": [
    {
     "name": "stdout",
     "output_type": "stream",
     "text": [
      "10 100 12\n",
      "10 22 34 46 58 70 82 94 "
     ]
    }
   ],
   "source": [
    "# Write your code here using while loop\n",
    "a,b,c=map(int,input().split())\n",
    "while a<=b:\n",
    "    print(a, end=' ')\n",
    "    a=a+c"
   ]
  },
  {
   "cell_type": "code",
   "execution_count": 2,
   "id": "ed28662e",
   "metadata": {},
   "outputs": [
    {
     "name": "stdout",
     "output_type": "stream",
     "text": [
      "1234 2443 347\n",
      "1234 1581 1928 2275 "
     ]
    }
   ],
   "source": [
    "# Write your code here using for loop\n",
    "a,b,c=map(int,input().split())\n",
    "for a in range(a,b,c):\n",
    "    print(a,end=' ')"
   ]
  },
  {
   "cell_type": "markdown",
   "id": "ed223ed3",
   "metadata": {},
   "source": [
    "## Exercise 10\n",
    "\n",
    "You'll be given three numbers **X, Y and Z**. Print the all the numbers from **Y** to **X** (inclusive) with a difference of **Z**.\n",
    "\n",
    "\n",
    "- It's guaranteed that **X < Y**\n",
    "- See the Sample I/O for more clarity.\n",
    "\n",
    "**Sample I/O**  \n",
    "\n",
    "***Input1:***  \n",
    "10 100 12  \n",
    "***Output1:***  \n",
    "100 88 76 64 52 40 28 16  \n",
    "\n",
    "***Input2:***  \n",
    "100 2100 500   \n",
    "***Output2:***  \n",
    "2100 1600 1100 600 100  \n",
    "\n",
    "***Input3:***  \n",
    "2000 3000 700  \n",
    "***Output3:***  \n",
    "3000 2300  \n",
    "\n",
    "***Input4:***  \n",
    "1234 2443 347  \n",
    "***Output4:***  \n",
    "2443 2096 1749 1402  "
   ]
  },
  {
   "cell_type": "code",
   "execution_count": 4,
   "id": "bfae86a7",
   "metadata": {},
   "outputs": [
    {
     "name": "stdout",
     "output_type": "stream",
     "text": [
      "10 100 12\n",
      "100 88 76 64 52 40 28 16 "
     ]
    }
   ],
   "source": [
    "# Write your code here using while loop\n",
    "a,b,c=map(int,input().split())\n",
    "while b>=a:\n",
    "    print(b,end=' ')\n",
    "    b=b-c"
   ]
  },
  {
   "cell_type": "code",
   "execution_count": 3,
   "id": "66772980",
   "metadata": {},
   "outputs": [
    {
     "name": "stdout",
     "output_type": "stream",
     "text": [
      "10 100 12\n",
      "100 88 76 64 52 40 28 16 "
     ]
    }
   ],
   "source": [
    "# Write your code here using for loop\n",
    "a,b,c=map(int,input().split())\n",
    "for i in range(b,a,-c):\n",
    "    print(i,end=' ')"
   ]
  },
  {
   "cell_type": "markdown",
   "id": "de3d4132",
   "metadata": {},
   "source": [
    "## Exercise 11\n",
    "\n",
    "Write a program to print **users' name N times**\n",
    "\n",
    "**Sample I/O**  \n",
    "\n",
    "***Input1:***  \n",
    "Vikarm  \n",
    "20  \n",
    "***Output1:***  \n",
    "Vikram  \n",
    "Vikram  \n",
    "Vikram  \n",
    "Vikram  \n",
    "Vikram  \n",
    "Vikram  \n",
    "Vikram  \n",
    "Vikram  \n",
    "Vikram  \n",
    "Vikram  \n",
    "Vikram  \n",
    "Vikram  \n",
    "Vikram  \n",
    "Vikram  \n",
    "Vikram  \n",
    "Vikram  \n",
    "Vikram  \n",
    "Vikram  \n",
    "Vikram  \n",
    "Vikram  \n",
    "\n",
    "***Input2:***  \n",
    "Rolex  \n",
    "7<br>\n",
    "***Output2:***  \n",
    "Rolex  \n",
    "Rolex  \n",
    "Rolex  \n",
    "Rolex  \n",
    "Rolex  \n",
    "Rolex  \n",
    "Rolex    \n",
    "\n",
    "***Input3:***  \n",
    "Delhi  \n",
    "10  \n",
    "***Output3:***  \n",
    "Delhi  \n",
    "Delhi  \n",
    "Delhi  \n",
    "Delhi  \n",
    "Delhi  \n",
    "Delhi  \n",
    "Delhi  \n",
    "Delhi  \n",
    "Delhi  \n",
    "Delhi    \n",
    "\n",
    "***Input1:***  \n",
    "Tina  \n",
    "12  \n",
    "***Output1:***  \n",
    "Tina  \n",
    "Tina  \n",
    "Tina  \n",
    "Tina  \n",
    "Tina  \n",
    "Tina  \n",
    "Tina  \n",
    "Tina  \n",
    "Tina  \n",
    "Tina  \n",
    "Tina  \n",
    "Tina  "
   ]
  },
  {
   "cell_type": "code",
   "execution_count": 6,
   "id": "41577e11",
   "metadata": {},
   "outputs": [
    {
     "name": "stdout",
     "output_type": "stream",
     "text": [
      "puspendra\n",
      "10\n",
      "puspendra\n",
      "puspendra\n",
      "puspendra\n",
      "puspendra\n",
      "puspendra\n",
      "puspendra\n",
      "puspendra\n",
      "puspendra\n",
      "puspendra\n",
      "puspendra\n"
     ]
    }
   ],
   "source": [
    "# Write your code here using while loop\n",
    "a=input()\n",
    "b=int(input())\n",
    "while b!=0:\n",
    "    print(a)\n",
    "    b=b-1"
   ]
  },
  {
   "cell_type": "code",
   "execution_count": 5,
   "id": "73e1d201",
   "metadata": {},
   "outputs": [
    {
     "name": "stdout",
     "output_type": "stream",
     "text": [
      "pushu\n",
      "5\n",
      "pushu\n",
      "pushu\n",
      "pushu\n",
      "pushu\n",
      "pushu\n"
     ]
    }
   ],
   "source": [
    "# Write your code here using for loop\n",
    "a=input()\n",
    "b=int(input())\n",
    "for i in range(1,b+1):\n",
    "    print(a)"
   ]
  }
 ],
 "metadata": {
  "kernelspec": {
   "display_name": "Python 3 (ipykernel)",
   "language": "python",
   "name": "python3"
  },
  "language_info": {
   "codemirror_mode": {
    "name": "ipython",
    "version": 3
   },
   "file_extension": ".py",
   "mimetype": "text/x-python",
   "name": "python",
   "nbconvert_exporter": "python",
   "pygments_lexer": "ipython3",
   "version": "3.9.13"
  },
  "latex_envs": {
   "LaTeX_envs_menu_present": true,
   "autoclose": false,
   "autocomplete": true,
   "bibliofile": "biblio.bib",
   "cite_by": "apalike",
   "current_citInitial": 1,
   "eqLabelWithNumbers": true,
   "eqNumInitial": 1,
   "hotkeys": {
    "equation": "Ctrl-E",
    "itemize": "Ctrl-I"
   },
   "labels_anchors": false,
   "latex_user_defs": false,
   "report_style_numbering": false,
   "user_envs_cfg": false
  },
  "toc": {
   "base_numbering": 1,
   "nav_menu": {},
   "number_sections": true,
   "sideBar": true,
   "skip_h1_title": false,
   "title_cell": "Table of Contents",
   "title_sidebar": "Contents",
   "toc_cell": false,
   "toc_position": {},
   "toc_section_display": true,
   "toc_window_display": false
  }
 },
 "nbformat": 4,
 "nbformat_minor": 5
}
