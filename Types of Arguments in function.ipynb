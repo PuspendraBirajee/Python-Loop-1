{
 "cells": [
  {
   "cell_type": "code",
   "execution_count": 1,
   "id": "528dfdf9",
   "metadata": {},
   "outputs": [
    {
     "name": "stdout",
     "output_type": "stream",
     "text": [
      "Mumbai is in India, which is in Asia\n"
     ]
    }
   ],
   "source": [
    "# 1 positional, keyword and default arguments in functions\n",
    "\n",
    "#function definition\n",
    "def location(city, country, continent): # parameters------>3 parameters\n",
    "    print(f'{city} is in {country}, which is in {continent}')\n",
    "# function call\n",
    "location(\"Mumbai\",\"India\", \"Asia\") # Positional Arguments---->3 arguments"
   ]
  },
  {
   "cell_type": "code",
   "execution_count": 5,
   "id": "fd57818c",
   "metadata": {
    "scrolled": true
   },
   "outputs": [
    {
     "ename": "SyntaxError",
     "evalue": "positional argument follows keyword argument (2659209970.py, line 5)",
     "output_type": "error",
     "traceback": [
      "\u001b[1;36m  File \u001b[1;32m\"C:\\Users\\Bina Computer\\AppData\\Local\\Temp\\ipykernel_16900\\2659209970.py\"\u001b[1;36m, line \u001b[1;32m5\u001b[0m\n\u001b[1;33m    location(country=\"India\", continent\"Asia\", city=\"Mumbai\") # keyword Arguments\u001b[0m\n\u001b[1;37m                                       ^\u001b[0m\n\u001b[1;31mSyntaxError\u001b[0m\u001b[1;31m:\u001b[0m positional argument follows keyword argument\n"
     ]
    }
   ],
   "source": [
    "#function definition\n",
    "def location(city, country, continent): # parameters\n",
    "    print(f'{city} is in {country}, which is in {continent}')\n",
    "# function call\n",
    "location(country=\"India\", continent\"Asia\", city=\"Mumbai\") # keyword Arguments"
   ]
  },
  {
   "cell_type": "code",
   "execution_count": 12,
   "id": "82dea603",
   "metadata": {},
   "outputs": [
    {
     "ename": "TypeError",
     "evalue": "location() got an unexpected keyword argument 'Country'",
     "output_type": "error",
     "traceback": [
      "\u001b[1;31m---------------------------------------------------------------------------\u001b[0m",
      "\u001b[1;31mTypeError\u001b[0m                                 Traceback (most recent call last)",
      "\u001b[1;32m~\\AppData\\Local\\Temp\\ipykernel_16900\\2578699584.py\u001b[0m in \u001b[0;36m<module>\u001b[1;34m\u001b[0m\n\u001b[0;32m      3\u001b[0m     \u001b[0mprint\u001b[0m\u001b[1;33m(\u001b[0m\u001b[1;34mf'{city} is in {country}, which is in {continent}'\u001b[0m\u001b[1;33m)\u001b[0m\u001b[1;33m\u001b[0m\u001b[1;33m\u001b[0m\u001b[0m\n\u001b[0;32m      4\u001b[0m \u001b[1;31m# function call\u001b[0m\u001b[1;33m\u001b[0m\u001b[1;33m\u001b[0m\u001b[0m\n\u001b[1;32m----> 5\u001b[1;33m \u001b[0mlocation\u001b[0m\u001b[1;33m(\u001b[0m\u001b[0mCountry\u001b[0m\u001b[1;33m=\u001b[0m\u001b[1;34m\"India\"\u001b[0m\u001b[1;33m,\u001b[0m \u001b[0mcontinent\u001b[0m\u001b[1;33m=\u001b[0m\u001b[1;34m\"Asia\"\u001b[0m\u001b[1;33m,\u001b[0m \u001b[0mcity\u001b[0m\u001b[1;33m=\u001b[0m\u001b[1;34m\"Mumbai\"\u001b[0m\u001b[1;33m)\u001b[0m \u001b[1;31m# keyword Arguments\u001b[0m\u001b[1;33m\u001b[0m\u001b[1;33m\u001b[0m\u001b[0m\n\u001b[0m",
      "\u001b[1;31mTypeError\u001b[0m: location() got an unexpected keyword argument 'Country'"
     ]
    }
   ],
   "source": [
    "#function definition\n",
    "def location(city, country, continent): # parameters\n",
    "    print(f'{city} is in {country}, which is in {continent}')\n",
    "# function call\n",
    "location(Country=\"India\", continent=\"Asia\", city=\"Mumbai\") # keyword Arguments"
   ]
  },
  {
   "cell_type": "code",
   "execution_count": 13,
   "id": "db9b830b",
   "metadata": {},
   "outputs": [
    {
     "name": "stdout",
     "output_type": "stream",
     "text": [
      "Mumbai is in India, which is in Asia\n"
     ]
    }
   ],
   "source": [
    "#function definition\n",
    "def location(city, country, continent): # parameters\n",
    "    print(f'{city} is in {country}, which is in {continent}')\n",
    "# function call\n",
    "location(country=\"India\", continent=\"Asia\", city=\"Mumbai\") # keyword Arguments"
   ]
  },
  {
   "cell_type": "code",
   "execution_count": 6,
   "id": "8893bf8c",
   "metadata": {},
   "outputs": [
    {
     "ename": "TypeError",
     "evalue": "location() missing 2 required positional arguments: 'country' and 'continent'",
     "output_type": "error",
     "traceback": [
      "\u001b[1;31m---------------------------------------------------------------------------\u001b[0m",
      "\u001b[1;31mTypeError\u001b[0m                                 Traceback (most recent call last)",
      "\u001b[1;32m~\\AppData\\Local\\Temp\\ipykernel_16900\\2565888187.py\u001b[0m in \u001b[0;36m<module>\u001b[1;34m\u001b[0m\n\u001b[0;32m      3\u001b[0m     \u001b[0mprint\u001b[0m\u001b[1;33m(\u001b[0m\u001b[1;34mf'{city} is in {country}, which is in {continent}'\u001b[0m\u001b[1;33m)\u001b[0m\u001b[1;33m\u001b[0m\u001b[1;33m\u001b[0m\u001b[0m\n\u001b[0;32m      4\u001b[0m \u001b[1;31m# function call\u001b[0m\u001b[1;33m\u001b[0m\u001b[1;33m\u001b[0m\u001b[0m\n\u001b[1;32m----> 5\u001b[1;33m \u001b[0mlocation\u001b[0m\u001b[1;33m(\u001b[0m\u001b[1;34m\"Mumbai\"\u001b[0m\u001b[1;33m)\u001b[0m \u001b[1;31m# default Arguments\u001b[0m\u001b[1;33m\u001b[0m\u001b[1;33m\u001b[0m\u001b[0m\n\u001b[0m",
      "\u001b[1;31mTypeError\u001b[0m: location() missing 2 required positional arguments: 'country' and 'continent'"
     ]
    }
   ],
   "source": [
    "#function definition\n",
    "def location(city, country, continent): # parameters\n",
    "    print(f'{city} is in {country}, which is in {continent}')\n",
    "# function call\n",
    "location(\"Mumbai\") # default Arguments"
   ]
  },
  {
   "cell_type": "code",
   "execution_count": 7,
   "id": "a1ec127a",
   "metadata": {},
   "outputs": [
    {
     "ename": "TypeError",
     "evalue": "location() missing 1 required positional argument: 'continent'",
     "output_type": "error",
     "traceback": [
      "\u001b[1;31m---------------------------------------------------------------------------\u001b[0m",
      "\u001b[1;31mTypeError\u001b[0m                                 Traceback (most recent call last)",
      "\u001b[1;32m~\\AppData\\Local\\Temp\\ipykernel_16900\\1585185040.py\u001b[0m in \u001b[0;36m<module>\u001b[1;34m\u001b[0m\n\u001b[0;32m      3\u001b[0m     \u001b[0mprint\u001b[0m\u001b[1;33m(\u001b[0m\u001b[1;34mf'{city} is in {country}, which is in {continent}'\u001b[0m\u001b[1;33m)\u001b[0m\u001b[1;33m\u001b[0m\u001b[1;33m\u001b[0m\u001b[0m\n\u001b[0;32m      4\u001b[0m \u001b[1;31m# function call\u001b[0m\u001b[1;33m\u001b[0m\u001b[1;33m\u001b[0m\u001b[0m\n\u001b[1;32m----> 5\u001b[1;33m \u001b[0mlocation\u001b[0m\u001b[1;33m(\u001b[0m\u001b[1;34m\"Mumbai\"\u001b[0m\u001b[1;33m,\u001b[0m\u001b[1;34m\"India\"\u001b[0m\u001b[1;33m)\u001b[0m \u001b[1;31m# default Arguments\u001b[0m\u001b[1;33m\u001b[0m\u001b[1;33m\u001b[0m\u001b[0m\n\u001b[0m",
      "\u001b[1;31mTypeError\u001b[0m: location() missing 1 required positional argument: 'continent'"
     ]
    }
   ],
   "source": [
    "#function definition\n",
    "def location(city, country, continent): # parameters\n",
    "    print(f'{city} is in {country}, which is in {continent}')\n",
    "# function call\n",
    "location(\"Mumbai\",\"India\") # default Arguments"
   ]
  },
  {
   "cell_type": "code",
   "execution_count": 8,
   "id": "63d529ad",
   "metadata": {},
   "outputs": [
    {
     "name": "stdout",
     "output_type": "stream",
     "text": [
      "Mumbai is in India, which is in Asia\n"
     ]
    }
   ],
   "source": [
    "#function definition\n",
    "def location(city, country, continent): # parameters\n",
    "    print(f'{city} is in {country}, which is in {continent}')\n",
    "# function call\n",
    "location(\"Mumbai\",\"India\",\"Asia\") # default Arguments"
   ]
  },
  {
   "cell_type": "code",
   "execution_count": 14,
   "id": "a5249f69",
   "metadata": {},
   "outputs": [
    {
     "ename": "TypeError",
     "evalue": "location() missing 3 required positional arguments: 'city', 'country', and 'continent'",
     "output_type": "error",
     "traceback": [
      "\u001b[1;31m---------------------------------------------------------------------------\u001b[0m",
      "\u001b[1;31mTypeError\u001b[0m                                 Traceback (most recent call last)",
      "\u001b[1;32m~\\AppData\\Local\\Temp\\ipykernel_16900\\4064233206.py\u001b[0m in \u001b[0;36m<module>\u001b[1;34m\u001b[0m\n\u001b[0;32m      3\u001b[0m     \u001b[0mprint\u001b[0m\u001b[1;33m(\u001b[0m\u001b[1;34mf'{city} is in {country}, which is in {continent}'\u001b[0m\u001b[1;33m)\u001b[0m\u001b[1;33m\u001b[0m\u001b[1;33m\u001b[0m\u001b[0m\n\u001b[0;32m      4\u001b[0m \u001b[1;31m# function call\u001b[0m\u001b[1;33m\u001b[0m\u001b[1;33m\u001b[0m\u001b[0m\n\u001b[1;32m----> 5\u001b[1;33m \u001b[0mlocation\u001b[0m\u001b[1;33m(\u001b[0m\u001b[1;33m)\u001b[0m \u001b[1;31m# default Arguments\u001b[0m\u001b[1;33m\u001b[0m\u001b[1;33m\u001b[0m\u001b[0m\n\u001b[0m",
      "\u001b[1;31mTypeError\u001b[0m: location() missing 3 required positional arguments: 'city', 'country', and 'continent'"
     ]
    }
   ],
   "source": [
    "#function definition\n",
    "def location(city, country, continent): # parameters\n",
    "    print(f'{city} is in {country}, which is in {continent}')\n",
    "# function call\n",
    "location() # default Arguments"
   ]
  },
  {
   "cell_type": "code",
   "execution_count": 15,
   "id": "e22e8815",
   "metadata": {},
   "outputs": [
    {
     "name": "stdout",
     "output_type": "stream",
     "text": [
      "Mumbai is in India, which is in Asia\n"
     ]
    }
   ],
   "source": [
    "#function definition\n",
    "def location(city, country, continent=\"Asia\"): # default Arguments\n",
    "    print(f'{city} is in {country}, which is in {continent}')\n",
    "# function call\n",
    "location(\"Mumbai\",\"India\") # 2 Arguments"
   ]
  },
  {
   "cell_type": "code",
   "execution_count": 16,
   "id": "37f20a34",
   "metadata": {},
   "outputs": [
    {
     "name": "stdout",
     "output_type": "stream",
     "text": [
      "Kathmandu is in Nepal, which is in Asia\n"
     ]
    }
   ],
   "source": [
    "#function definition\n",
    "def location(city, country, continent=\"North America\"): # default Arguments\n",
    "    print(f'{city} is in {country}, which is in {continent}')\n",
    "# function call\n",
    "location(\"Kathmandu\",\"Nepal\",\"Asia\") # 2 Arguments"
   ]
  },
  {
   "cell_type": "code",
   "execution_count": 17,
   "id": "ecf28086",
   "metadata": {},
   "outputs": [
    {
     "name": "stdout",
     "output_type": "stream",
     "text": [
      "Mumbai is in India, which is in Asia\n",
      "Hydrabad is in India, which is in Asia\n",
      "Tokyo is in Japan, which is in Asia\n",
      "Berlin is in Germany, which is in Europe\n"
     ]
    }
   ],
   "source": [
    "#function definition\n",
    "def location(city=\"Mumbai\", country=\"India\", continent=\"Asia\"): # default Arguments\n",
    "    print(f'{city} is in {country}, which is in {continent}')\n",
    "# function call\n",
    "location() # no Arguments\n",
    "location(\"Hydrabad\")\n",
    "location(\"Tokyo\",\"Japan\")\n",
    "location(\"Berlin\",\"Germany\",\"Europe\")"
   ]
  },
  {
   "cell_type": "code",
   "execution_count": 18,
   "id": "c98d4ac5",
   "metadata": {},
   "outputs": [
    {
     "name": "stdout",
     "output_type": "stream",
     "text": [
      "Berlin is in Germany, which is in Europe\n"
     ]
    }
   ],
   "source": [
    "#function definition\n",
    "def location(city, country=\"India\", continent=\"Asia\"): # default Arguments\n",
    "    print(f'{city} is in {country}, which is in {continent}')\n",
    "# function call\n",
    "\n",
    "location(\"Berlin\",\"Germany\",\"Europe\")"
   ]
  },
  {
   "cell_type": "code",
   "execution_count": 20,
   "id": "b6a4e2e3",
   "metadata": {},
   "outputs": [
    {
     "ename": "SyntaxError",
     "evalue": "non-default argument follows default argument (3933279656.py, line 2)",
     "output_type": "error",
     "traceback": [
      "\u001b[1;36m  File \u001b[1;32m\"C:\\Users\\Bina Computer\\AppData\\Local\\Temp\\ipykernel_16900\\3933279656.py\"\u001b[1;36m, line \u001b[1;32m2\u001b[0m\n\u001b[1;33m    def location(city=\"Mumbai\", country, continent=\"Asia\"): # default Arguments\u001b[0m\n\u001b[1;37m                                         ^\u001b[0m\n\u001b[1;31mSyntaxError\u001b[0m\u001b[1;31m:\u001b[0m non-default argument follows default argument\n"
     ]
    }
   ],
   "source": [
    "#function definition\n",
    "def location(city=\"Mumbai\", country, continent=\"Asia\"): # default Arguments\n",
    "    print(f'{city} is in {country}, which is in {continent}')\n",
    "# function call\n",
    "\n",
    "location(\"Berlin\",\"Germany\",\"Europe\")"
   ]
  },
  {
   "cell_type": "code",
   "execution_count": 24,
   "id": "63f8b4da",
   "metadata": {},
   "outputs": [
    {
     "name": "stdout",
     "output_type": "stream",
     "text": [
      "13\n"
     ]
    }
   ],
   "source": [
    "lst= [-1, 12, 16, 2, -16]\n",
    "print(sum(lst))"
   ]
  },
  {
   "cell_type": "code",
   "execution_count": 25,
   "id": "aa94546d",
   "metadata": {},
   "outputs": [
    {
     "name": "stdout",
     "output_type": "stream",
     "text": [
      "159\n"
     ]
    }
   ],
   "source": [
    "lst= [-1, 12, 16, 2, -16]\n",
    "print(sum(lst,146))"
   ]
  },
  {
   "cell_type": "code",
   "execution_count": 26,
   "id": "1e3a5748",
   "metadata": {},
   "outputs": [
    {
     "name": "stdout",
     "output_type": "stream",
     "text": [
      "Help on built-in function sum in module builtins:\n",
      "\n",
      "sum(iterable, /, start=0)\n",
      "    Return the sum of a 'start' value (default: 0) plus an iterable of numbers\n",
      "    \n",
      "    When the iterable is empty, return the start value.\n",
      "    This function is intended specifically for use with numeric values and may\n",
      "    reject non-numeric types.\n",
      "\n"
     ]
    }
   ],
   "source": [
    "help(sum)"
   ]
  },
  {
   "cell_type": "code",
   "execution_count": null,
   "id": "2b7112ea",
   "metadata": {},
   "outputs": [],
   "source": []
  }
 ],
 "metadata": {
  "kernelspec": {
   "display_name": "Python 3 (ipykernel)",
   "language": "python",
   "name": "python3"
  },
  "language_info": {
   "codemirror_mode": {
    "name": "ipython",
    "version": 3
   },
   "file_extension": ".py",
   "mimetype": "text/x-python",
   "name": "python",
   "nbconvert_exporter": "python",
   "pygments_lexer": "ipython3",
   "version": "3.9.13"
  }
 },
 "nbformat": 4,
 "nbformat_minor": 5
}
